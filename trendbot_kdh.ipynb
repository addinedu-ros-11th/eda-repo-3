{
 "cells": [
  {
   "cell_type": "code",
   "execution_count": 1,
   "id": "6405580e",
   "metadata": {},
   "outputs": [],
   "source": [
    "import requests\n",
    "import pandas as pd\n",
    "import matplotlib.pyplot as plt\n",
    "from datetime import datetime"
   ]
  },
  {
   "cell_type": "code",
   "execution_count": null,
   "id": "dbb5c445",
   "metadata": {},
   "outputs": [],
   "source": [
    "# GitHub API 토큰 설정 (GitHub에서 Personal Access Token 생성 필요)\n",
    "GITHUB_TOKEN = 'your_github_token_here'  # 여기에 토큰 입력\n",
    "HEADERS = {'Authorization': f'token {GITHUB_TOKEN}'}\n",
    "\n",
    "# 검색 쿼리 설정\n",
    "QUERY = 'robot'\n",
    "\n",
    "# GitHub API 엔드포인트\n",
    "SEARCH_URL = 'https://api.github.com/search/repositories'"
   ]
  }
 ],
 "metadata": {
  "kernelspec": {
   "display_name": "eda_venv",
   "language": "python",
   "name": "python3"
  },
  "language_info": {
   "codemirror_mode": {
    "name": "ipython",
    "version": 3
   },
   "file_extension": ".py",
   "mimetype": "text/x-python",
   "name": "python",
   "nbconvert_exporter": "python",
   "pygments_lexer": "ipython3",
   "version": "3.12.3"
  }
 },
 "nbformat": 4,
 "nbformat_minor": 5
}
