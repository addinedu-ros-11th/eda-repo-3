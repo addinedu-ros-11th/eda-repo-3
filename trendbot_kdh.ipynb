{
 "cells": [
  {
   "cell_type": "code",
   "execution_count": 39,
   "id": "6405580e",
   "metadata": {},
   "outputs": [],
   "source": [
    "import requests\n",
    "import pandas as pd\n",
    "import matplotlib.pyplot as plt\n",
    "from datetime import datetime\n",
    "from collections import Counter\n",
    "import squarify  # Treemap을 위해 필요 (matplotlib 기반)"
   ]
  },
  {
   "cell_type": "code",
   "execution_count": null,
   "id": "dbb5c445",
   "metadata": {},
   "outputs": [],
   "source": [
    "# GitHub API 토큰 설정 (GitHub에서 Personal Access Token 생성 필요)\n",
    "GITHUB_TOKEN = 'GITHUB_TOKEN'  # 여기에 토큰 입력\n",
    "HEADERS = {'Authorization': f'token {GITHUB_TOKEN}'}\n",
    "\n",
    "# 검색 쿼리 설정\n",
    "QUERY = 'robotics'\n",
    "\n",
    "# GitHub API 엔드포인트\n",
    "SEARCH_URL = 'https://api.github.com/search/repositories'"
   ]
  },
  {
   "cell_type": "code",
   "execution_count": 54,
   "id": "5d8dda91",
   "metadata": {},
   "outputs": [],
   "source": [
    "# 키워드 해당되는 repo 가져오는 함수\n",
    "def fetch_repos(query, sort='stars', order='desc', per_page=100):\n",
    "    all_repos = []\n",
    "    page = 1\n",
    "    while True:\n",
    "        params = {\n",
    "            'q': query,\n",
    "            'sort': sort,\n",
    "            'order': order,\n",
    "            'per_page': per_page,\n",
    "            'page': page\n",
    "        }\n",
    "        response = requests.get(SEARCH_URL, headers=HEADERS, params=params)\n",
    "        if response.status_code == 200:\n",
    "            repos = response.json()['items']\n",
    "            if not repos:\n",
    "                break\n",
    "            all_repos.extend(repos)\n",
    "            page += 1\n",
    "            # GitHub API rate limit을 고려해 최대 1000개로 제한 (10페이지)\n",
    "            if page > 10:\n",
    "                break\n",
    "        else:\n",
    "            print(f\"Error: {response.status_code} - {response.text}\")\n",
    "            break\n",
    "    return all_repos"
   ]
  },
  {
   "cell_type": "code",
   "execution_count": 55,
   "id": "40cf3e8c",
   "metadata": {},
   "outputs": [],
   "source": [
    "# repo 메타데이터 추출하는 함수\n",
    "def get_repo_details(repo):\n",
    "    return {\n",
    "        'name': repo['full_name'],\n",
    "        'stars': repo['stargazers_count'],\n",
    "        'forks': repo['forks_count'],\n",
    "        'language': repo['language'],\n",
    "        'created_at': repo['created_at'],\n",
    "        'topics': repo['topics']\n",
    "    }"
   ]
  },
  {
   "cell_type": "code",
   "execution_count": 56,
   "id": "b84d1dc9",
   "metadata": {},
   "outputs": [],
   "source": [
    "# 데이터 수집: 최대 1000개 리포지토리 가져오기\n",
    "all_repos = fetch_repos(QUERY)\n",
    "\n",
    "# 데이터프레임으로 변환\n",
    "df = pd.DataFrame([get_repo_details(repo) for repo in all_repos])\n",
    "\n",
    "# 날짜 형식 변환\n",
    "df['created_at'] = pd.to_datetime(df['created_at'])\n",
    "df['year'] = df['created_at'].dt.year"
   ]
  }
 ],
 "metadata": {
  "kernelspec": {
   "display_name": "eda_venv",
   "language": "python",
   "name": "python3"
  },
  "language_info": {
   "codemirror_mode": {
    "name": "ipython",
    "version": 3
   },
   "file_extension": ".py",
   "mimetype": "text/x-python",
   "name": "python",
   "nbconvert_exporter": "python",
   "pygments_lexer": "ipython3",
   "version": "3.12.3"
  }
 },
 "nbformat": 4,
 "nbformat_minor": 5
}
