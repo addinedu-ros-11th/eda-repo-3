{
  "cells": [
    {
      "cell_type": "markdown",
      "id": "ffcf5cd7",
      "metadata": {},
      "source": [
        "# Trendbot — Clean, Modular Notebook\n",
        "\n",
        "개선된 구조와 가독성을 위한 슬림 버전. 이 노트북은 `trendbot_utils.py`를 불러와 실행합니다."
      ]
    },
    {
      "cell_type": "markdown",
      "id": "b6f25d79",
      "metadata": {},
      "source": [
        "## 0) 환경 & 의존성"
      ]
    },
    {
      "cell_type": "code",
      "execution_count": 4,
      "id": "82767435",
      "metadata": {},
      "outputs": [],
      "source": [
        "import sys, os\n",
        "\n",
        "# 필요 시만 사용: 외부 패키지 설치\n",
        "# def pip_install(pkgs):\n",
        "#     import subprocess\n",
        "#     subprocess.run([sys.executable, '-m', 'pip', 'install', *pkgs], check=False)\n",
        "# # pip_install(['polars'])\n"
      ]
    },
    {
      "cell_type": "markdown",
      "id": "781b7cd2",
      "metadata": {},
      "source": [
        "## 1) 공통 임포트"
      ]
    },
    {
      "cell_type": "code",
      "execution_count": 5,
      "id": "b5ea0e5b",
      "metadata": {
        "tags": [
          "patched",
          "imports"
        ]
      },
      "outputs": [],
      "source": [
        "# === Trendbot: Clean Imports & Config (patched) ===\n",
        "from __future__ import annotations\n",
        "from dataclasses import dataclass\n",
        "from pathlib import Path\n",
        "import pandas as pd\n",
        "import matplotlib.pyplot as plt\n",
        "import os, json, math, time\n",
        "from datetime import datetime, timedelta, timezone\n",
        "import numpy as np\n",
        "\n",
        "import trendbot_utils_clean as tu  # ← refactored utils (no hidden globals)\n"
      ]
    },
    {
      "cell_type": "markdown",
      "id": "9c87c525",
      "metadata": {},
      "source": [
        "## 2) 설정 (Config)"
      ]
    },
    {
      "cell_type": "code",
      "execution_count": 6,
      "id": "b9ccc470",
      "metadata": {},
      "outputs": [],
      "source": [
        "@dataclass\n",
        "class Config:\n",
        "    ROOT: Path = Path(\".\")\n",
        "    OUT: Path = ROOT / \"out\"\n",
        "    FIGS: Path = ROOT / \"figs\"\n",
        "    TOP_K: int = 20\n",
        "    RECENT_WINDOWS: tuple[int, ...] = (7, 30, 90)\n",
        "\n",
        "cfg = Config()\n",
        "for p in (cfg.OUT, cfg.FIGS):\n",
        "    p.mkdir(parents=True, exist_ok=True)\n",
        "\n",
        "GITHUB_TOKEN = os.getenv(\"GITHUB_TOKEN\")\n",
        "session = tu.make_session(GITHUB_TOKEN)  # GitHub API session (token optional)"
      ]
    },
    {
      "cell_type": "markdown",
      "id": "96a00dc8",
      "metadata": {},
      "source": [
        "## 3) 데이터 수집 (GitHub API)"
      ]
    },
    {
      "cell_type": "code",
      "execution_count": 7,
      "id": "3cf9f468",
      "metadata": {},
      "outputs": [],
      "source": [
        "# 예시: 검색어를 바꿔가며 수집\n",
        "# df = search_repos(query='stars:>100 language:python', token=GITHUB_TOKEN)\n",
        "# df.head()"
      ]
    },
    {
      "cell_type": "markdown",
      "id": "2e372d64",
      "metadata": {},
      "source": [
        "## 4) 전처리 & 특징 생성"
      ]
    },
    {
      "cell_type": "code",
      "execution_count": 8,
      "id": "b71e169b",
      "metadata": {},
      "outputs": [],
      "source": [
        "# TODO: 전처리 파이프라인 함수화 예시\n",
        "# df = normalize(df)\n"
      ]
    },
    {
      "cell_type": "markdown",
      "id": "7d40d48d",
      "metadata": {},
      "source": [
        "## 5) 분석 & 시각화"
      ]
    },
    {
      "cell_type": "code",
      "execution_count": 9,
      "id": "515c897a",
      "metadata": {},
      "outputs": [],
      "source": [
        "# 예시: 최근 윈도우 트렌드 시각화\n",
        "# plot_recent_window(df, window=30, top_k=cfg.TOP_K, save_to=cfg.FIGS / 'top30.png')"
      ]
    },
    {
      "cell_type": "markdown",
      "id": "961d4de1",
      "metadata": {},
      "source": [
        "## 6) 결과 저장"
      ]
    },
    {
      "cell_type": "code",
      "execution_count": 10,
      "id": "f3ba0231",
      "metadata": {},
      "outputs": [],
      "source": [
        "# df.to_csv(cfg.OUT / 'repos.csv', index=False)\n"
      ]
    }
  ],
  "metadata": {
    "kernelspec": {
      "display_name": "eda_venv",
      "language": "python",
      "name": "python3"
    },
    "language_info": {
      "codemirror_mode": {
        "name": "ipython",
        "version": 3
      },
      "file_extension": ".py",
      "mimetype": "text/x-python",
      "name": "python",
      "nbconvert_exporter": "python",
      "pygments_lexer": "ipython3",
      "version": "3.12.3"
    }
  },
  "nbformat": 4,
  "nbformat_minor": 5
}
