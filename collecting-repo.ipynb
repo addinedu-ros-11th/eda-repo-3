{
 "cells": [
  {
   "cell_type": "code",
   "execution_count": 31,
   "id": "30d64b72",
   "metadata": {},
   "outputs": [],
   "source": [
    "import requests\n",
    "import pandas as pd\n",
    "import time\n",
    "import base64\n",
    "import concurrent.futures\n",
    "import xml.etree.ElementTree as ET\n",
    "import markdown\n",
    "import re\n",
    "import os\n",
    "from dotenv import load_dotenv\n",
    "from bs4 import BeautifulSoup\n",
    "from sqlalchemy import create_engine, text\n",
    "from sqlalchemy.types import Text, String, DateTime\n",
    "from tqdm import tqdm\n",
    "\n",
    "load_dotenv()\n",
    "\n",
    "CONFIG ={\n",
    "    \"git_token\":os.getenv(\"GIT_TOKEN\"),\n",
    "    \"kipris_key\":os.getenv(\"KIPRIS_KEY\"),\n",
    "    \"rds_user\":os.getenv(\"DB_USER\"),\n",
    "    \"rds_pwd\":os.getenv(\"DB_PASSWORD\"),\n",
    "    \"rds_host\":os.getenv(\"DB_HOST\"),\n",
    "    \"rds_db\":os.getenv(\"DB_NAME\"),\n",
    "    \"rds_port\":os.getenv(\"DB_PORT\")\n",
    "}\n",
    "\n",
    "git_token = CONFIG[\"git_token\"]\n",
    "kipris_key = CONFIG[\"kipris_key\"]\n",
    "rds_user = CONFIG[\"rds_user\"]\n",
    "rds_pwd = CONFIG[\"rds_pwd\"]\n",
    "rds_host = CONFIG[\"rds_host\"]\n",
    "rds_db = CONFIG[\"rds_db\"]\n",
    "rds_port = CONFIG[\"rds_port\"]\n",
    "\n",
    "headers = {\"Authorization\":f\"Bearer {git_token}\",\n",
    "           \"Accept\": \"application/vnd.github+json\"}\n",
    "\n",
    "keyword = [\"robotics\", \"ROS\", \"robot arm\", \"robot\", \"amr\"]\n",
    "# keyword = [\"ROS\"]\n",
    "\n",
    "delay = 2\n",
    "\n",
    "repo_table_name = \"github_repo\"\n",
    "read_table_name = \"github_readmes\"\n",
    "kipris_table_name = \"kipris_patent\"\n",
    "\n",
    "res = requests.get(\"https://api.github.com/user\", headers=headers)\n",
    "\n",
    "Kipris_serch_url = \"http://plus.kipris.or.kr/kipo-api/kipi/patUtiModInfoSearchSevice/getAdvancedSearch\"\n",
    "\n",
    "per_page = 50\n",
    "max_page = 3\n",
    "\n",
    "Default_total_target = 1000\n",
    "Max_row_per_page = 500"
   ]
  },
  {
   "cell_type": "code",
   "execution_count": 44,
   "id": "e6110b56",
   "metadata": {},
   "outputs": [],
   "source": [
    "def search_repos(keyword, language=None):\n",
    "    repos = []\n",
    "    for page in range(1, max_page + 1):\n",
    "        query = keyword\n",
    "        if language:\n",
    "            query += f\" language:{language}\"\n",
    "        url = \"https://api.github.com/search/repositories\"\n",
    "        params = {\"q\": f\"{query} stars:>=1000\",\n",
    "                  \"sort\": \"stars\",\n",
    "                  \"order\": \"desc\",\n",
    "                  \"per_page\": per_page,\n",
    "                  \"page\": page}\n",
    "        r = requests.get(url, headers=headers, params=params)\n",
    "        \n",
    "        if r.status_code != 200:\n",
    "            print(f\"[Warning] 요청 실패 {r.status_code}\")\n",
    "            break\n",
    "        \n",
    "        batch = r.json().get(\"items\", [])\n",
    "        \n",
    "        if not batch:\n",
    "            break\n",
    "\n",
    "        for repo in batch:\n",
    "            desc = repo.get(\"description\") or \"\"\n",
    "            if not (re.search(r\"[\\u4e00-\\u9fff]\", desc)):\n",
    "                repo[\"keyword\"] = keyword\n",
    "                repos.append(repo)\n",
    "    return repos"
   ]
  },
  {
   "cell_type": "code",
   "execution_count": 33,
   "id": "f986c277",
   "metadata": {},
   "outputs": [],
   "source": [
    "def get_readme(owner, repo, token=None):\n",
    "    url = f\"https://api.github.com/repos/{owner}/{repo}/readme\"\n",
    "    headers = {\"Accept\": \"application/vnd.github.v3+json\"}\n",
    "    if token :\n",
    "        headers[\"Authorization\"] = f\"token {token}\"\n",
    "\n",
    "    try:\n",
    "        response = requests.get(url, headers=headers)\n",
    "        response.raise_for_status()\n",
    "\n",
    "        data = response.json()\n",
    "        content = base64.b64decode(data[\"content\"].encode(\"utf-8\")).decode(\"utf-8\", errors=\"ignore\")\n",
    "        \n",
    "        try:\n",
    "            html = markdown.markdown(content)\n",
    "            text = BeautifulSoup(html, \"html.parser\").get_text(separator=\"\\n\")\n",
    "            return text.strip()\n",
    "        except Exception as e:\n",
    "            print(f\"{owner}/{repo}: Markdown -> Text 변환 실패 {e})\")\n",
    "            return content\n",
    "        \n",
    "    except requests.exceptions.HTTPError as e:\n",
    "        print(f\"{owner}/{repo}: README 없음 ({response.status_code})\")\n",
    "        return \"None\"\n",
    "    \n",
    "    except Exception as e:\n",
    "        print(f\"{owner}/{repo} README 디코드 실패: {e}\")\n",
    "        return \"None\""
   ]
  },
  {
   "cell_type": "code",
   "execution_count": 50,
   "id": "995ae194",
   "metadata": {},
   "outputs": [],
   "source": [
    "def fetch_repo_stats(repo, token):\n",
    "    owner, name = repo[\"owner\"][\"login\"], repo[\"name\"]\n",
    "    readme = get_readme(owner, name, token)\n",
    "    return {\n",
    "        \"full_name\": repo[\"full_name\"],\n",
    "        \"stars\": repo[\"stargazers_count\"],\n",
    "        \"forks\": repo[\"forks_count\"],\n",
    "        \"language\": repo[\"language\"],\n",
    "        \"updated_at\": repo[\"updated_at\"],\n",
    "        \"created_at\": repo[\"created_at\"],\n",
    "        \"readme\": readme,\n",
    "        \"keyword\": repo[\"keyword\"]\n",
    "    }"
   ]
  },
  {
   "cell_type": "code",
   "execution_count": 22,
   "id": "6981df1e",
   "metadata": {},
   "outputs": [],
   "source": [
    "def safe_request(url, retries=3, delay=2, timeout=30):\n",
    "    \"\"\"안정적인 GET 요청 (타임아웃/재시도 포함)\"\"\"\n",
    "    for attempt in range(1, retries + 1):\n",
    "        try:\n",
    "            response = requests.get(url, timeout=timeout)\n",
    "            response.raise_for_status()\n",
    "            return response\n",
    "        except requests.exceptions.Timeout:\n",
    "            print(f\"요청 타임아웃 (재시도 {attempt}/{retries})\")\n",
    "        except requests.exceptions.ConnectionError:\n",
    "            print(f\"연결 오류 (재시도 {attempt}/{retries})\")\n",
    "        except requests.exceptions.RequestException as e:\n",
    "            print(f\"요청 실패 ({type(e).__name__}): {e}\")\n",
    "            break\n",
    "        time.sleep(delay)\n",
    "    return None"
   ]
  },
  {
   "cell_type": "code",
   "execution_count": null,
   "id": "b3901911",
   "metadata": {},
   "outputs": [],
   "source": [
    "def serch_kipris(word_query,\n",
    "                 service_key,\n",
    "                 exclude_terms=None,\n",
    "                 total_target=1000,\n",
    "                 rows_per_page=100):\n",
    "    K_result = []\n",
    "    total_pages = (total_target + rows_per_page - 1) // rows_per_page\n",
    "\n",
    "    if exclude_terms is None:\n",
    "        exclude_terms = []\n",
    "\n",
    "    for page in range(1, total_pages + 1):\n",
    "        kurl = (\n",
    "            f\"{Kipris_serch_url}\"\n",
    "            f\"?word={word_query}\"\n",
    "            f\"&numOfRows={rows_per_page}\"\n",
    "            f\"&pageNo={page}\"\n",
    "            f\"&ServiceKey={service_key}\"\n",
    "        )\n",
    "\n",
    "        # print(kurl)\n",
    "\n",
    "        response = safe_request(kurl)\n",
    "        if response is None:\n",
    "            print(f\"요청 실패 (keyword={word_query}, page={page})\")\n",
    "            continue\n",
    "\n",
    "        try:\n",
    "            root = ET.fromstring(response.content)\n",
    "        except ET.ParseError:\n",
    "            print(f\"XML 파싱 실패 (keyword={word_query}, page={page})\")\n",
    "            continue\n",
    "\n",
    "        items = root.findall(\".//item\")\n",
    "        if not items:\n",
    "            print(f\"결과 없음 (keyword={word_query}, page={page})\")\n",
    "            break\n",
    "\n",
    "        for item in items:\n",
    "            inventionTitle = item.findtext(\"inventionTitle\", default=\"\").strip()\n",
    "            astrtCont = item.findtext(\"astrtCont\", default=\"\").strip()\n",
    "\n",
    "            # 제외 키워드 필터링\n",
    "            if any(term.lower() in astrtCont.lower() or term.lower() in inventionTitle.lower()\n",
    "                   for term in exclude_terms):\n",
    "                continue\n",
    "\n",
    "            K_result.append({\n",
    "                \"inventionTitle\": inventionTitle,\n",
    "                \"astrtCont\": astrtCont,\n",
    "                \"applicationDate\": item.findtext(\"applicationDate\", default=\"\"),\n",
    "                \"registerDate\": item.findtext(\"registerDate\", default=\"\"),\n",
    "                \"keyword\": word_query\n",
    "            })\n",
    "\n",
    "        print(f\"[Info] {word_query} - {page}페이지 완료 ({len(items)}건, 누적 {len(K_result)}건)\")\n",
    "        time.sleep(1)\n",
    "\n",
    "        # 마지막 페이지면 중단\n",
    "        if len(items) < rows_per_page:\n",
    "            break\n",
    "\n",
    "    return K_result[:total_target]"
   ]
  },
  {
   "cell_type": "code",
   "execution_count": 37,
   "id": "11be5e2f",
   "metadata": {},
   "outputs": [],
   "source": [
    "def normalize_date(date_str):\n",
    "    if not date_str:\n",
    "        return None\n",
    "        \n",
    "    date_str = date_str.strip()\n",
    "\n",
    "    if len(date_str) == 8:\n",
    "        return f\"{date_str[:4]}-{date_str[4:6]}-{date_str[6:]}\"\n",
    "    \n",
    "    return date_str"
   ]
  },
  {
   "cell_type": "code",
   "execution_count": 25,
   "id": "6ab86362",
   "metadata": {},
   "outputs": [],
   "source": [
    "engine_url = f\"mysql+pymysql://{rds_user}:{rds_pwd}@{rds_host}:{rds_port}/{rds_db}\"\n",
    "engine = create_engine(engine_url)"
   ]
  },
  {
   "cell_type": "code",
   "execution_count": 51,
   "id": "adbaa37c",
   "metadata": {},
   "outputs": [
    {
     "name": "stdout",
     "output_type": "stream",
     "text": [
      "Searching keyword: robotics\n",
      "Searching keyword: ROS\n",
      "Searching keyword: robot arm\n",
      "Searching keyword: robot\n",
      "Searching keyword: amr\n",
      "총 264개의 고유 레포 수집 완료\n"
     ]
    }
   ],
   "source": [
    "all_repos = []\n",
    "for kw in keyword:\n",
    "    print(f\"Searching keyword: {kw}\")\n",
    "    result = search_repos(kw)\n",
    "    all_repos.extend(result)\n",
    "\n",
    "# full_name 기준 중복 제거\n",
    "unique_repos = {repo[\"full_name\"]: repo for repo in all_repos}\n",
    "repos_list = list(unique_repos.values())\n",
    "print(f\"총 {len(repos_list)}개의 고유 레포 수집 완료\")"
   ]
  },
  {
   "cell_type": "code",
   "execution_count": 52,
   "id": "89eb4212",
   "metadata": {},
   "outputs": [
    {
     "name": "stderr",
     "output_type": "stream",
     "text": [
      "Readme 수집 진행 중: 100%|██████████| 264/264 [01:52<00:00,  2.34it/s]"
     ]
    },
    {
     "name": "stdout",
     "output_type": "stream",
     "text": [
      "모든 README 수집 완료\n"
     ]
    },
    {
     "name": "stderr",
     "output_type": "stream",
     "text": [
      "\n"
     ]
    }
   ],
   "source": [
    "repo_data = []\n",
    "total_repos = len(repos_list)\n",
    "\n",
    "for repo in tqdm(repos_list, total=total_repos, desc=\"Readme 수집 진행 중\"):\n",
    "    try:\n",
    "        result = fetch_repo_stats(repo, git_token)\n",
    "        if result:\n",
    "            repo_data.append(result)\n",
    "    except Exception as e:\n",
    "        tqdm.write(f\"오류발생 : {e}\")\n",
    "        continue\n",
    "\n",
    "print(\"모든 README 수집 완료\")\n",
    "\n",
    "# DataFrame 생성\n",
    "all_df = pd.DataFrame(repo_data)\n",
    "\n",
    "df_meta = all_df[[\"full_name\", \"stars\", \"forks\", \"language\", \"updated_at\", \"created_at\"]]\n",
    "df_read = all_df[[\"full_name\", \"readme\", \"keyword\"]]"
   ]
  },
  {
   "cell_type": "code",
   "execution_count": 53,
   "id": "b6d745ff",
   "metadata": {},
   "outputs": [
    {
     "name": "stdout",
     "output_type": "stream",
     "text": [
      "github_repo 테이블에 데이터 저장 완료\n",
      "github_readmes 테이블에 데이터 저장 완료\n"
     ]
    }
   ],
   "source": [
    "df_meta.to_sql(repo_table_name, con=engine, if_exists=\"replace\", index=False, chunksize=100)\n",
    "print(f\"{repo_table_name} 테이블에 데이터 저장 완료\")\n",
    "df_read.to_sql(read_table_name, con=engine, if_exists=\"replace\", index=False, chunksize=100)\n",
    "print(f\"{read_table_name} 테이블에 데이터 저장 완료\")"
   ]
  },
  {
   "cell_type": "code",
   "execution_count": 49,
   "id": "db16675e",
   "metadata": {},
   "outputs": [
    {
     "name": "stderr",
     "output_type": "stream",
     "text": [
      "Kipris 특허 검색 진행 중:   0%|          | 0/5 [00:00<?, ?it/s]"
     ]
    },
    {
     "name": "stdout",
     "output_type": "stream",
     "text": [
      "http://plus.kipris.or.kr/kipo-api/kipi/patUtiModInfoSearchSevice/getAdvancedSearch?word=robotics&numOfRows=100&pageNo=1&ServiceKey=K0WMv2sWkgxTRAJX1/nUamZLeeYb7ZonOsIBk3tNxRI=\n",
      "[Info] robotics - 1페이지 완료 (100건, 누적 100건)\n",
      "http://plus.kipris.or.kr/kipo-api/kipi/patUtiModInfoSearchSevice/getAdvancedSearch?word=robotics&numOfRows=100&pageNo=2&ServiceKey=K0WMv2sWkgxTRAJX1/nUamZLeeYb7ZonOsIBk3tNxRI=\n",
      "[Info] robotics - 2페이지 완료 (100건, 누적 188건)\n",
      "http://plus.kipris.or.kr/kipo-api/kipi/patUtiModInfoSearchSevice/getAdvancedSearch?word=robotics&numOfRows=100&pageNo=3&ServiceKey=K0WMv2sWkgxTRAJX1/nUamZLeeYb7ZonOsIBk3tNxRI=\n",
      "[Info] robotics - 3페이지 완료 (100건, 누적 285건)\n",
      "http://plus.kipris.or.kr/kipo-api/kipi/patUtiModInfoSearchSevice/getAdvancedSearch?word=robotics&numOfRows=100&pageNo=4&ServiceKey=K0WMv2sWkgxTRAJX1/nUamZLeeYb7ZonOsIBk3tNxRI=\n",
      "[Info] robotics - 4페이지 완료 (100건, 누적 380건)\n",
      "http://plus.kipris.or.kr/kipo-api/kipi/patUtiModInfoSearchSevice/getAdvancedSearch?word=robotics&numOfRows=100&pageNo=5&ServiceKey=K0WMv2sWkgxTRAJX1/nUamZLeeYb7ZonOsIBk3tNxRI=\n",
      "[Info] robotics - 5페이지 완료 (100건, 누적 472건)\n",
      "http://plus.kipris.or.kr/kipo-api/kipi/patUtiModInfoSearchSevice/getAdvancedSearch?word=robotics&numOfRows=100&pageNo=6&ServiceKey=K0WMv2sWkgxTRAJX1/nUamZLeeYb7ZonOsIBk3tNxRI=\n",
      "[Info] robotics - 6페이지 완료 (100건, 누적 572건)\n",
      "http://plus.kipris.or.kr/kipo-api/kipi/patUtiModInfoSearchSevice/getAdvancedSearch?word=robotics&numOfRows=100&pageNo=7&ServiceKey=K0WMv2sWkgxTRAJX1/nUamZLeeYb7ZonOsIBk3tNxRI=\n",
      "[Info] robotics - 7페이지 완료 (100건, 누적 665건)\n",
      "http://plus.kipris.or.kr/kipo-api/kipi/patUtiModInfoSearchSevice/getAdvancedSearch?word=robotics&numOfRows=100&pageNo=8&ServiceKey=K0WMv2sWkgxTRAJX1/nUamZLeeYb7ZonOsIBk3tNxRI=\n",
      "[Info] robotics - 8페이지 완료 (100건, 누적 761건)\n",
      "http://plus.kipris.or.kr/kipo-api/kipi/patUtiModInfoSearchSevice/getAdvancedSearch?word=robotics&numOfRows=100&pageNo=9&ServiceKey=K0WMv2sWkgxTRAJX1/nUamZLeeYb7ZonOsIBk3tNxRI=\n",
      "[Info] robotics - 9페이지 완료 (100건, 누적 856건)\n",
      "http://plus.kipris.or.kr/kipo-api/kipi/patUtiModInfoSearchSevice/getAdvancedSearch?word=robotics&numOfRows=100&pageNo=10&ServiceKey=K0WMv2sWkgxTRAJX1/nUamZLeeYb7ZonOsIBk3tNxRI=\n",
      "[Info] robotics - 10페이지 완료 (100건, 누적 952건)\n"
     ]
    },
    {
     "name": "stderr",
     "output_type": "stream",
     "text": [
      "Kipris 특허 검색 진행 중:  20%|██        | 1/5 [00:17<01:10, 17.62s/it]"
     ]
    },
    {
     "name": "stdout",
     "output_type": "stream",
     "text": [
      "http://plus.kipris.or.kr/kipo-api/kipi/patUtiModInfoSearchSevice/getAdvancedSearch?word=ROS&numOfRows=100&pageNo=1&ServiceKey=K0WMv2sWkgxTRAJX1/nUamZLeeYb7ZonOsIBk3tNxRI=\n",
      "[Info] ROS - 1페이지 완료 (100건, 누적 38건)\n",
      "http://plus.kipris.or.kr/kipo-api/kipi/patUtiModInfoSearchSevice/getAdvancedSearch?word=ROS&numOfRows=100&pageNo=2&ServiceKey=K0WMv2sWkgxTRAJX1/nUamZLeeYb7ZonOsIBk3tNxRI=\n",
      "[Info] ROS - 2페이지 완료 (100건, 누적 112건)\n",
      "http://plus.kipris.or.kr/kipo-api/kipi/patUtiModInfoSearchSevice/getAdvancedSearch?word=ROS&numOfRows=100&pageNo=3&ServiceKey=K0WMv2sWkgxTRAJX1/nUamZLeeYb7ZonOsIBk3tNxRI=\n",
      "[Info] ROS - 3페이지 완료 (100건, 누적 117건)\n",
      "http://plus.kipris.or.kr/kipo-api/kipi/patUtiModInfoSearchSevice/getAdvancedSearch?word=ROS&numOfRows=100&pageNo=4&ServiceKey=K0WMv2sWkgxTRAJX1/nUamZLeeYb7ZonOsIBk3tNxRI=\n",
      "[Info] ROS - 4페이지 완료 (100건, 누적 126건)\n",
      "http://plus.kipris.or.kr/kipo-api/kipi/patUtiModInfoSearchSevice/getAdvancedSearch?word=ROS&numOfRows=100&pageNo=5&ServiceKey=K0WMv2sWkgxTRAJX1/nUamZLeeYb7ZonOsIBk3tNxRI=\n",
      "[Info] ROS - 5페이지 완료 (100건, 누적 129건)\n",
      "http://plus.kipris.or.kr/kipo-api/kipi/patUtiModInfoSearchSevice/getAdvancedSearch?word=ROS&numOfRows=100&pageNo=6&ServiceKey=K0WMv2sWkgxTRAJX1/nUamZLeeYb7ZonOsIBk3tNxRI=\n",
      "[Info] ROS - 6페이지 완료 (100건, 누적 132건)\n",
      "http://plus.kipris.or.kr/kipo-api/kipi/patUtiModInfoSearchSevice/getAdvancedSearch?word=ROS&numOfRows=100&pageNo=7&ServiceKey=K0WMv2sWkgxTRAJX1/nUamZLeeYb7ZonOsIBk3tNxRI=\n",
      "[Info] ROS - 7페이지 완료 (100건, 누적 133건)\n",
      "http://plus.kipris.or.kr/kipo-api/kipi/patUtiModInfoSearchSevice/getAdvancedSearch?word=ROS&numOfRows=100&pageNo=8&ServiceKey=K0WMv2sWkgxTRAJX1/nUamZLeeYb7ZonOsIBk3tNxRI=\n",
      "[Info] ROS - 8페이지 완료 (100건, 누적 143건)\n",
      "http://plus.kipris.or.kr/kipo-api/kipi/patUtiModInfoSearchSevice/getAdvancedSearch?word=ROS&numOfRows=100&pageNo=9&ServiceKey=K0WMv2sWkgxTRAJX1/nUamZLeeYb7ZonOsIBk3tNxRI=\n",
      "[Info] ROS - 9페이지 완료 (100건, 누적 152건)\n",
      "http://plus.kipris.or.kr/kipo-api/kipi/patUtiModInfoSearchSevice/getAdvancedSearch?word=ROS&numOfRows=100&pageNo=10&ServiceKey=K0WMv2sWkgxTRAJX1/nUamZLeeYb7ZonOsIBk3tNxRI=\n",
      "[Info] ROS - 10페이지 완료 (100건, 누적 166건)\n"
     ]
    },
    {
     "name": "stderr",
     "output_type": "stream",
     "text": [
      "Kipris 특허 검색 진행 중:  40%|████      | 2/5 [00:35<00:52, 17.58s/it]"
     ]
    },
    {
     "name": "stdout",
     "output_type": "stream",
     "text": [
      "http://plus.kipris.or.kr/kipo-api/kipi/patUtiModInfoSearchSevice/getAdvancedSearch?word=robot arm&numOfRows=100&pageNo=1&ServiceKey=K0WMv2sWkgxTRAJX1/nUamZLeeYb7ZonOsIBk3tNxRI=\n",
      "[Info] robot arm - 1페이지 완료 (14건, 누적 14건)\n"
     ]
    },
    {
     "name": "stderr",
     "output_type": "stream",
     "text": [
      "Kipris 특허 검색 진행 중:  60%|██████    | 3/5 [00:36<00:20, 10.10s/it]"
     ]
    },
    {
     "name": "stdout",
     "output_type": "stream",
     "text": [
      "http://plus.kipris.or.kr/kipo-api/kipi/patUtiModInfoSearchSevice/getAdvancedSearch?word=robot&numOfRows=100&pageNo=1&ServiceKey=K0WMv2sWkgxTRAJX1/nUamZLeeYb7ZonOsIBk3tNxRI=\n",
      "[Info] robot - 1페이지 완료 (100건, 누적 94건)\n",
      "http://plus.kipris.or.kr/kipo-api/kipi/patUtiModInfoSearchSevice/getAdvancedSearch?word=robot&numOfRows=100&pageNo=2&ServiceKey=K0WMv2sWkgxTRAJX1/nUamZLeeYb7ZonOsIBk3tNxRI=\n",
      "[Info] robot - 2페이지 완료 (100건, 누적 186건)\n",
      "http://plus.kipris.or.kr/kipo-api/kipi/patUtiModInfoSearchSevice/getAdvancedSearch?word=robot&numOfRows=100&pageNo=3&ServiceKey=K0WMv2sWkgxTRAJX1/nUamZLeeYb7ZonOsIBk3tNxRI=\n",
      "[Info] robot - 3페이지 완료 (100건, 누적 285건)\n",
      "http://plus.kipris.or.kr/kipo-api/kipi/patUtiModInfoSearchSevice/getAdvancedSearch?word=robot&numOfRows=100&pageNo=4&ServiceKey=K0WMv2sWkgxTRAJX1/nUamZLeeYb7ZonOsIBk3tNxRI=\n",
      "[Info] robot - 4페이지 완료 (100건, 누적 377건)\n",
      "http://plus.kipris.or.kr/kipo-api/kipi/patUtiModInfoSearchSevice/getAdvancedSearch?word=robot&numOfRows=100&pageNo=5&ServiceKey=K0WMv2sWkgxTRAJX1/nUamZLeeYb7ZonOsIBk3tNxRI=\n",
      "[Info] robot - 5페이지 완료 (100건, 누적 474건)\n",
      "http://plus.kipris.or.kr/kipo-api/kipi/patUtiModInfoSearchSevice/getAdvancedSearch?word=robot&numOfRows=100&pageNo=6&ServiceKey=K0WMv2sWkgxTRAJX1/nUamZLeeYb7ZonOsIBk3tNxRI=\n",
      "[Info] robot - 6페이지 완료 (100건, 누적 565건)\n",
      "http://plus.kipris.or.kr/kipo-api/kipi/patUtiModInfoSearchSevice/getAdvancedSearch?word=robot&numOfRows=100&pageNo=7&ServiceKey=K0WMv2sWkgxTRAJX1/nUamZLeeYb7ZonOsIBk3tNxRI=\n",
      "[Info] robot - 7페이지 완료 (100건, 누적 662건)\n",
      "http://plus.kipris.or.kr/kipo-api/kipi/patUtiModInfoSearchSevice/getAdvancedSearch?word=robot&numOfRows=100&pageNo=8&ServiceKey=K0WMv2sWkgxTRAJX1/nUamZLeeYb7ZonOsIBk3tNxRI=\n",
      "[Info] robot - 8페이지 완료 (100건, 누적 758건)\n",
      "http://plus.kipris.or.kr/kipo-api/kipi/patUtiModInfoSearchSevice/getAdvancedSearch?word=robot&numOfRows=100&pageNo=9&ServiceKey=K0WMv2sWkgxTRAJX1/nUamZLeeYb7ZonOsIBk3tNxRI=\n",
      "[Info] robot - 9페이지 완료 (100건, 누적 855건)\n",
      "http://plus.kipris.or.kr/kipo-api/kipi/patUtiModInfoSearchSevice/getAdvancedSearch?word=robot&numOfRows=100&pageNo=10&ServiceKey=K0WMv2sWkgxTRAJX1/nUamZLeeYb7ZonOsIBk3tNxRI=\n",
      "[Info] robot - 10페이지 완료 (100건, 누적 952건)\n"
     ]
    },
    {
     "name": "stderr",
     "output_type": "stream",
     "text": [
      "Kipris 특허 검색 진행 중:  80%|████████  | 4/5 [00:54<00:13, 13.09s/it]"
     ]
    },
    {
     "name": "stdout",
     "output_type": "stream",
     "text": [
      "http://plus.kipris.or.kr/kipo-api/kipi/patUtiModInfoSearchSevice/getAdvancedSearch?word=amr&numOfRows=100&pageNo=1&ServiceKey=K0WMv2sWkgxTRAJX1/nUamZLeeYb7ZonOsIBk3tNxRI=\n",
      "[Info] amr - 1페이지 완료 (100건, 누적 69건)\n",
      "http://plus.kipris.or.kr/kipo-api/kipi/patUtiModInfoSearchSevice/getAdvancedSearch?word=amr&numOfRows=100&pageNo=2&ServiceKey=K0WMv2sWkgxTRAJX1/nUamZLeeYb7ZonOsIBk3tNxRI=\n",
      "[Info] amr - 2페이지 완료 (100건, 누적 151건)\n",
      "http://plus.kipris.or.kr/kipo-api/kipi/patUtiModInfoSearchSevice/getAdvancedSearch?word=amr&numOfRows=100&pageNo=3&ServiceKey=K0WMv2sWkgxTRAJX1/nUamZLeeYb7ZonOsIBk3tNxRI=\n",
      "[Info] amr - 3페이지 완료 (100건, 누적 223건)\n",
      "http://plus.kipris.or.kr/kipo-api/kipi/patUtiModInfoSearchSevice/getAdvancedSearch?word=amr&numOfRows=100&pageNo=4&ServiceKey=K0WMv2sWkgxTRAJX1/nUamZLeeYb7ZonOsIBk3tNxRI=\n",
      "[Info] amr - 4페이지 완료 (100건, 누적 304건)\n",
      "http://plus.kipris.or.kr/kipo-api/kipi/patUtiModInfoSearchSevice/getAdvancedSearch?word=amr&numOfRows=100&pageNo=5&ServiceKey=K0WMv2sWkgxTRAJX1/nUamZLeeYb7ZonOsIBk3tNxRI=\n",
      "[Info] amr - 5페이지 완료 (100건, 누적 376건)\n",
      "http://plus.kipris.or.kr/kipo-api/kipi/patUtiModInfoSearchSevice/getAdvancedSearch?word=amr&numOfRows=100&pageNo=6&ServiceKey=K0WMv2sWkgxTRAJX1/nUamZLeeYb7ZonOsIBk3tNxRI=\n",
      "[Info] amr - 6페이지 완료 (100건, 누적 460건)\n",
      "http://plus.kipris.or.kr/kipo-api/kipi/patUtiModInfoSearchSevice/getAdvancedSearch?word=amr&numOfRows=100&pageNo=7&ServiceKey=K0WMv2sWkgxTRAJX1/nUamZLeeYb7ZonOsIBk3tNxRI=\n",
      "[Info] amr - 7페이지 완료 (100건, 누적 547건)\n",
      "http://plus.kipris.or.kr/kipo-api/kipi/patUtiModInfoSearchSevice/getAdvancedSearch?word=amr&numOfRows=100&pageNo=8&ServiceKey=K0WMv2sWkgxTRAJX1/nUamZLeeYb7ZonOsIBk3tNxRI=\n",
      "[Info] amr - 8페이지 완료 (100건, 누적 636건)\n",
      "http://plus.kipris.or.kr/kipo-api/kipi/patUtiModInfoSearchSevice/getAdvancedSearch?word=amr&numOfRows=100&pageNo=9&ServiceKey=K0WMv2sWkgxTRAJX1/nUamZLeeYb7ZonOsIBk3tNxRI=\n",
      "[Info] amr - 9페이지 완료 (100건, 누적 727건)\n",
      "http://plus.kipris.or.kr/kipo-api/kipi/patUtiModInfoSearchSevice/getAdvancedSearch?word=amr&numOfRows=100&pageNo=10&ServiceKey=K0WMv2sWkgxTRAJX1/nUamZLeeYb7ZonOsIBk3tNxRI=\n",
      "[Info] amr - 10페이지 완료 (100건, 누적 811건)\n"
     ]
    },
    {
     "name": "stderr",
     "output_type": "stream",
     "text": [
      "Kipris 특허 검색 진행 중: 100%|██████████| 5/5 [01:11<00:00, 14.39s/it]\n"
     ]
    },
    {
     "name": "stdout",
     "output_type": "stream",
     "text": [
      "kipris_patent 테이블에 데이터 저장 완료\n"
     ]
    }
   ],
   "source": [
    "all_patent = []\n",
    "exclude_term = [\"화학\", \"반응성\", \"화합\", \"제어능\", \"활성\", \"미토콘트리아\", \"단백질\", \"치료\", \"약물\", \"효소\", \"활성산소\", \"산화\", \"세포\", \"화합물\", \"의약\", \"반응\", \"검침\", \"통신망\", \"녹화\"]\n",
    "create_table = \"\"\"\n",
    "CREATE TABLE IF NOT EXISTS kipris_patent (\n",
    "    id INT AUTO_INCREMENT PRIMARY KEY,\n",
    "    inventionTitle VARCHAR(500) NOT NULL,\n",
    "    astrtCont TEXT,\n",
    "    registerDate DATE,\n",
    "    applicationDate DATE NOT NULL,\n",
    "    keyword VARCHAR(1000),\n",
    "    created_at TIMESTAMP DEFAULT CURRENT_TIMESTAMP,\n",
    "    updated_at TIMESTAMP DEFAULT CURRENT_TIMESTAMP ON UPDATE CURRENT_TIMESTAMP,\n",
    "    INDEX idx_inventionTitle (inventionTitle(255)),\n",
    "    INDEX idx_registerDate (registerDate),\n",
    "    INDEX idx_applicationDate (applicationDate)\n",
    ") ENGINE=InnoDB DEFAULT CHARSET=utf8mb4 COLLATE=utf8mb4_unicode_ci;\"\"\"\n",
    "\n",
    "for kw in tqdm(keyword, desc=\"Kipris 특허 검색 진행 중\"):\n",
    "    result = serch_kipris(kw, kipris_key, exclude_term)\n",
    "    all_patent.extend(result)\n",
    "\n",
    "kdf = pd.DataFrame(all_patent, columns=[\"inventionTitle\", \"astrtCont\", \"applicationDate\", \"registerDate\", \"keyword\"])\n",
    "\n",
    "kdf[\"applicationDate\"] = kdf[\"applicationDate\"].apply(normalize_date)\n",
    "kdf[\"registerDate\"] = kdf[\"registerDate\"].apply(normalize_date)\n",
    "\n",
    "with engine.connect() as conn:\n",
    "    conn.execute(text(create_table))\n",
    "    conn.commit()\n",
    "\n",
    "kdf.to_sql(kipris_table_name,\n",
    "           con=engine,\n",
    "           if_exists=\"replace\",\n",
    "           index=False,\n",
    "           chunksize=100,\n",
    "           dtype={\n",
    "               \"inventionTitle\": String(500),\n",
    "               \"astrtCont\": Text,\n",
    "               \"applicationDate\": String(20),\n",
    "               \"registerDate\": String(20),\n",
    "               \"keyword\": String(1000)\n",
    "           })\n",
    "\n",
    "print(f\"{kipris_table_name} 테이블에 데이터 저장 완료\")"
   ]
  },
  {
   "cell_type": "code",
   "execution_count": null,
   "id": "bb6ee3e6",
   "metadata": {},
   "outputs": [],
   "source": [
    "df_meta.to_csv(\"~/github_repo.csv\", index=False)\n",
    "df_read.to_csv(\"~/github_readmes.csv\", index=False)\n",
    "kdf.to_csv(\"~/kipris_patent.csv\", index=False)"
   ]
  }
 ],
 "metadata": {
  "kernelspec": {
   "display_name": "EDA_VENV",
   "language": "python",
   "name": "python3"
  },
  "language_info": {
   "codemirror_mode": {
    "name": "ipython",
    "version": 3
   },
   "file_extension": ".py",
   "mimetype": "text/x-python",
   "name": "python",
   "nbconvert_exporter": "python",
   "pygments_lexer": "ipython3",
   "version": "3.12.3"
  }
 },
 "nbformat": 4,
 "nbformat_minor": 5
}
