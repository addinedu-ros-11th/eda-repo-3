{
 "cells": [
  {
   "cell_type": "code",
   "execution_count": null,
   "id": "30d64b72",
   "metadata": {},
   "outputs": [],
   "source": [
    "import requests\n",
    "import pandas as pd\n",
    "import time\n",
    "import concurrent.futures\n",
    "import xml.etree.ElementTree as ET\n",
    "from sqlalchemy import create_engine\n",
    "from sqlalchemy.types import Text, String, DateTime\n",
    "\n",
    "\n",
    "kipris_key = \"L/Ik7Sh0vMzeH5204ZB4D1pIFAdCplRSS2BqNpQvn8w=\"\n",
    "\n",
    "headers = {\"Authorization\":f\"Bearer {git_token}\",\n",
    "           \"Accept\": \"application/vnd.github+json\"}\n",
    "\n",
    "# keyword = [\"robotics\", \"ROS\", \"robot arm\", \"robot\", \"amr\"]\n",
    "keyword = [\"ROS\"]\n",
    "\n",
    "delay = 2\n",
    "\n",
    "rds_user = \"root\"\n",
    "rds_pwd = \"ckehdgus9v99nw!\"\n",
    "rds_host = \"database-1.ctai4u0ayj03.ap-northeast-2.rds.amazonaws.com\"\n",
    "rds_port = 3306\n",
    "rds_db = \"amrbase\"\n",
    "\n",
    "repo_table_name = \"github_repo\"\n",
    "kipris_table_name = \"kipris_patent\"\n",
    "\n",
    "res = requests.get(\"https://api.github.com/user\", headers=headers)\n",
    "\n",
    "Kipris_serch_url = \"http://plus.kipris.or.kr/kipo-api/kipi/patUtiModInfoSearchSevice/getAdvancedSearch\"\n",
    "\n",
    "per_page = 50\n",
    "max_page = 3\n",
    "\n",
    "Default_total_target = 1000\n",
    "Max_row_per_page = 500"
   ]
  },
  {
   "cell_type": "code",
   "execution_count": 31,
   "id": "e6110b56",
   "metadata": {},
   "outputs": [],
   "source": [
    "def search_repos(keyword, language=None):\n",
    "    repos = []\n",
    "    for page in range(1, max_page + 1):\n",
    "        query = keyword\n",
    "        if language:\n",
    "            query += f\" language:{language}\"\n",
    "        url = \"https://api.github.com/search/repositories\"\n",
    "        params = {\"q\": query, \"sort\": \"stars\", \"order\": \"desc\", \"per_page\": per_page, \"page\": page}\n",
    "        r = requests.get(url, headers=headers, params=params)\n",
    "        if r.status_code != 200:\n",
    "            print(f\"[Warning] 요청 실패 {r.status_code}\")\n",
    "            break\n",
    "        batch = r.json().get(\"items\", [])\n",
    "        if not batch:\n",
    "            break\n",
    "        repos.extend(batch)\n",
    "        time.sleep(delay)\n",
    "    return repos"
   ]
  },
  {
   "cell_type": "code",
   "execution_count": 50,
   "id": "37663740",
   "metadata": {},
   "outputs": [],
   "source": [
    "def serch_kipris(word_query,\n",
    "                 service_key,\n",
    "                 exclude_terms=None,\n",
    "                 total_target=1000,\n",
    "                 rows_per_page=500):\n",
    "    K_result = []\n",
    "    total_pages = (total_target + rows_per_page -1) // rows_per_page\n",
    "\n",
    "    if exclude_terms is None:\n",
    "        exclude_terms = []\n",
    "    \n",
    "    for page in range(1, total_pages + 1):\n",
    "        kurl = (\n",
    "            f\"{Kipris_serch_url}\"\n",
    "            f\"?word={word_query}\"\n",
    "            f\"&numOfRows={rows_per_page}\"\n",
    "            f\"&pageNo={page}\"\n",
    "            f\"&ServiceKey={service_key}\"\n",
    "        )\n",
    "\n",
    "        response = requests.get(kurl)\n",
    "        response.raise_for_status()\n",
    "\n",
    "        root = ET.fromstring(response.content)\n",
    "        items = root.findall(\".//item\")\n",
    "\n",
    "        for item in items:\n",
    "            inventionTitle = item.findtext(\"inventionTitle\", default=\"\").strip()\n",
    "            astrtCont = item.findtext(\"astrtCont\", default=\"\").strip()\n",
    "\n",
    "            if any(term.lower() in astrtCont.lower() or term.lower() in inventionTitle.lower() for term in exclude_terms):\n",
    "                continue\n",
    "\n",
    "            K_result.append({\n",
    "                \"inventionTitle\":item.findtext(\"inventionTitle\", default=\"\"),\n",
    "                \"astrtCont\":item.findtext(\"astrtCont\", default=\"\").strip(),\n",
    "                \"registerDate\":item.findtext(\"registerDate\", default=\"\"),\n",
    "                \"keyword\":word_query\n",
    "            })\n",
    "\n",
    "        if len(items) < rows_per_page:\n",
    "            break\n",
    "\n",
    "        print(f\"[Info] {page}페이지 완료 ({len(items)}건, 누적 {len(K_result)}건)\")\n",
    "        time.sleep(1.0)\n",
    "\n",
    "    return K_result[:total_target]\n"
   ]
  },
  {
   "cell_type": "code",
   "execution_count": 33,
   "id": "5b75291f",
   "metadata": {},
   "outputs": [],
   "source": [
    "def get_repo_stats(owner, repo_name):\n",
    "    url = f\"https://api.github.com/repos/{owner}/{repo_name}\"\n",
    "    r = requests.get(url, headers=headers)\n",
    "    if r.status_code != 200:\n",
    "        return {\"commits\": None, \"contributors\": None, \"open_issues\": None}\n",
    "    repo = r.json()\n",
    "\n",
    "    # 커밋 수 추정\n",
    "    commits_url = f\"https://api.github.com/repos/{owner}/{repo_name}/commits?per_page=1\"\n",
    "    commits_res = requests.get(commits_url, headers=headers)\n",
    "    commits = None\n",
    "    if \"Link\" in commits_res.headers:\n",
    "        try:\n",
    "            last_page = [l for l in commits_res.headers[\"Link\"].split(\",\") if 'rel=\"last\"' in l][0]\n",
    "            commits = int(last_page.split(\"page=\")[-1].split(\">\")[0])\n",
    "        except:\n",
    "            commits = None\n",
    "    else:\n",
    "        commits = len(commits_res.json())\n",
    "\n",
    "    # 기여자 수 추정\n",
    "    contrib_url = f\"https://api.github.com/repos/{owner}/{repo_name}/contributors?per_page=1&anon=true\"\n",
    "    contrib_res = requests.get(contrib_url, headers=headers)\n",
    "    contributors = None\n",
    "    if \"Link\" in contrib_res.headers:\n",
    "        try:\n",
    "            last_page = [l for l in contrib_res.headers[\"Link\"].split(\",\") if 'rel=\"last\"' in l][0]\n",
    "            contributors = int(last_page.split(\"page=\")[-1].split(\">\")[0])\n",
    "        except:\n",
    "            contributors = None\n",
    "    else:\n",
    "        contributors = len(contrib_res.json())\n",
    "\n",
    "    # 오픈 이슈 수\n",
    "    open_issues = repo.get(\"open_issues_count\", None)\n",
    "\n",
    "    return {\"commits\": commits, \"contributors\": contributors, \"open_issues\": open_issues}"
   ]
  },
  {
   "cell_type": "code",
   "execution_count": 34,
   "id": "995ae194",
   "metadata": {},
   "outputs": [],
   "source": [
    "def fetch_repo_stats(repo):\n",
    "    owner, name = repo[\"owner\"][\"login\"], repo[\"name\"]\n",
    "    stats = get_repo_stats(owner, name)\n",
    "    return {\n",
    "        \"full_name\": repo[\"full_name\"],\n",
    "        \"description\": repo[\"description\"],\n",
    "        \"stars\": repo[\"stargazers_count\"],\n",
    "        \"forks\": repo[\"forks_count\"],\n",
    "        \"language\": repo[\"language\"],\n",
    "        \"html_url\": repo[\"html_url\"],\n",
    "        \"updated_at\": repo[\"updated_at\"],\n",
    "        \"commits\": stats[\"commits\"],\n",
    "        \"contributors\": stats[\"contributors\"],\n",
    "        \"open_issues\": stats[\"open_issues\"]\n",
    "    }"
   ]
  },
  {
   "cell_type": "code",
   "execution_count": 35,
   "id": "6ab86362",
   "metadata": {},
   "outputs": [],
   "source": [
    "engine_url = f\"mysql+pymysql://{rds_user}:{rds_pwd}@{rds_host}:{rds_port}/{rds_db}\"\n",
    "engine = create_engine(engine_url)"
   ]
  },
  {
   "cell_type": "code",
   "execution_count": 36,
   "id": "adbaa37c",
   "metadata": {},
   "outputs": [
    {
     "name": "stdout",
     "output_type": "stream",
     "text": [
      "Searching keyword: ROS\n",
      "총 150개의 고유 레포 수집 완료\n"
     ]
    }
   ],
   "source": [
    "all_repos = []\n",
    "for kw in keyword:\n",
    "    print(f\"Searching keyword: {kw}\")\n",
    "    result = search_repos(kw)\n",
    "    all_repos.extend(result)\n",
    "\n",
    "# full_name 기준 중복 제거\n",
    "unique_repos = {repo[\"full_name\"]: repo for repo in all_repos}\n",
    "repos_list = list(unique_repos.values())\n",
    "print(f\"총 {len(repos_list)}개의 고유 레포 수집 완료\")"
   ]
  },
  {
   "cell_type": "code",
   "execution_count": 37,
   "id": "23e193a8",
   "metadata": {},
   "outputs": [],
   "source": [
    "repo_data = []\n",
    "with concurrent.futures.ThreadPoolExecutor(max_workers=10) as executor:\n",
    "    # 각 레포에 fetch_repo_stats를 병렬 실행\n",
    "    results = list(executor.map(fetch_repo_stats, repos_list))\n",
    "\n",
    "repo_data.extend(results)\n",
    "df = pd.DataFrame(repo_data)"
   ]
  },
  {
   "cell_type": "code",
   "execution_count": 38,
   "id": "b6d745ff",
   "metadata": {},
   "outputs": [
    {
     "name": "stdout",
     "output_type": "stream",
     "text": [
      "github_repo 테이블에 데이터 저장 완료\n"
     ]
    }
   ],
   "source": [
    "df.to_sql(repo_table_name, con=engine, if_exists=\"replace\", index=False, chunksize=100)\n",
    "print(f\"{repo_table_name} 테이블에 데이터 저장 완료\")"
   ]
  },
  {
   "cell_type": "code",
   "execution_count": 56,
   "id": "db16675e",
   "metadata": {},
   "outputs": [
    {
     "name": "stdout",
     "output_type": "stream",
     "text": [
      "Searching keyword: ROS\n",
      "[Info] 1페이지 완료 (500건, 누적 160건)\n",
      "[Info] 2페이지 완료 (500건, 누적 233건)\n",
      "kipris_patent 테이블에 데이터 저장 완료\n"
     ]
    }
   ],
   "source": [
    "all_patent = []\n",
    "exclude_term = [\"화학\", \"반응성\", \"화합\", \"제어능\", \"활성\", \"미토콘트리아\", \"단백질\", \"치료\", \"약물\", \"효소\"]\n",
    "\n",
    "for kw in keyword:\n",
    "    print(f\"Searching keyword: {kw}\")\n",
    "    result = serch_kipris(kw, kipris_key, exclude_term)\n",
    "    all_patent.extend(result)\n",
    "\n",
    "kdf = pd.DataFrame(all_patent, columns=[\"inventionTitle\", \"astrtCont\", \"registerDate\", \"keyword\"])\n",
    "\n",
    "kdf.to_sql(kipris_table_name,\n",
    "           con=engine,\n",
    "           if_exists=\"replace\",\n",
    "           index=False,\n",
    "           chunksize=100,\n",
    "           dtype={\n",
    "               \"inventionTitle\": String(500),\n",
    "               \"astrtCont\": Text,\n",
    "               \"registerDate\": String(20),\n",
    "               \"keyword\": String(100)\n",
    "           })\n",
    "print(f\"{kipris_table_name} 테이블에 데이터 저장 완료\")"
   ]
  },
  {
   "cell_type": "code",
   "execution_count": null,
   "id": "7e286a4d",
   "metadata": {},
   "outputs": [],
   "source": [
    "df"
   ]
  },
  {
   "cell_type": "code",
   "execution_count": null,
   "id": "bb6ee3e6",
   "metadata": {},
   "outputs": [],
   "source": [
    "df.to_csv(\"~/devgithub_repo.csv\", index=False)"
   ]
  },
  {
   "cell_type": "code",
   "execution_count": 1,
   "id": "6d5bf8b0",
   "metadata": {},
   "outputs": [
    {
     "ename": "NameError",
     "evalue": "name 'kdf' is not defined",
     "output_type": "error",
     "traceback": [
      "\u001b[31m---------------------------------------------------------------------------\u001b[39m",
      "\u001b[31mNameError\u001b[39m                                 Traceback (most recent call last)",
      "\u001b[36mCell\u001b[39m\u001b[36m \u001b[39m\u001b[32mIn[1]\u001b[39m\u001b[32m, line 1\u001b[39m\n\u001b[32m----> \u001b[39m\u001b[32m1\u001b[39m \u001b[43mkdf\u001b[49m.to_csv(\u001b[33m\"\u001b[39m\u001b[33m~/devkipris_patent.csv\u001b[39m\u001b[33m\"\u001b[39m, index=\u001b[38;5;28;01mFalse\u001b[39;00m)\n",
      "\u001b[31mNameError\u001b[39m: name 'kdf' is not defined"
     ]
    }
   ],
   "source": [
    "kdf.to_csv(\"~/devkipris_patent.csv\", index=False)"
   ]
  }
 ],
 "metadata": {
  "kernelspec": {
   "display_name": "EDA_VENV",
   "language": "python",
   "name": "python3"
  },
  "language_info": {
   "codemirror_mode": {
    "name": "ipython",
    "version": 3
   },
   "file_extension": ".py",
   "mimetype": "text/x-python",
   "name": "python",
   "nbconvert_exporter": "python",
   "pygments_lexer": "ipython3",
   "version": "3.12.3"
  }
 },
 "nbformat": 4,
 "nbformat_minor": 5
}
