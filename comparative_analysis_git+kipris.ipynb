{
 "cells": [
  {
   "cell_type": "code",
   "execution_count": 13,
   "id": "0da3f2c0",
   "metadata": {},
   "outputs": [],
   "source": [
    "import pandas as pd\n",
    "import os\n",
    "import re\n",
    "import torch\n",
    "import matplotlib.pyplot as plt\n",
    "import seaborn as sns\n",
    "import plotly.graph_objects as go\n",
    "import numpy as np\n",
    "\n",
    "from sqlalchemy import create_engine, Text, String, Float\n",
    "from sqlalchemy.sql import text\n",
    "from dotenv import load_dotenv\n",
    "from sklearn.feature_extraction.text import TfidfVectorizer\n",
    "from sklearn.metrics.pairwise import cosine_similarity\n",
    "from sentence_transformers import SentenceTransformer, util\n",
    "from tqdm import tqdm\n",
    "from plotly.subplots import make_subplots\n",
    "\n",
    "load_dotenv()\n",
    "\n",
    "CONFIG ={\n",
    "    \"git_token\":os.getenv(\"GIT_TOKEN\"),\n",
    "    \"kipris_key\":os.getenv(\"KIPRIS_KEY\"),\n",
    "    \"rds_user\":os.getenv(\"DB_USER\"),\n",
    "    \"rds_pwd\":os.getenv(\"DB_PASSWORD\"),\n",
    "    \"rds_host\":os.getenv(\"DB_HOST\"),\n",
    "    \"rds_db\":os.getenv(\"DB_NAME\"),\n",
    "    \"rds_port\":os.getenv(\"DB_PORT\")\n",
    "}\n",
    "\n",
    "git_token = CONFIG[\"git_token\"]\n",
    "kipris_key = CONFIG[\"kipris_key\"]\n",
    "rds_user = CONFIG[\"rds_user\"]\n",
    "rds_pwd = CONFIG[\"rds_pwd\"]\n",
    "rds_host = CONFIG[\"rds_host\"]\n",
    "rds_db = CONFIG[\"rds_db\"]\n",
    "rds_port = CONFIG[\"rds_port\"]"
   ]
  },
  {
   "cell_type": "code",
   "execution_count": 10,
   "id": "e17bbbcf",
   "metadata": {},
   "outputs": [],
   "source": [
    "def normalization_text(text):\n",
    "    text = re.sub(r\"http\\S+\", \"\", text)  # URL 제거\n",
    "    text = re.sub(r\"[^가-힣a-zA-Z0-9\\s]\", \" \", text)  # 특수문자 제거\n",
    "    text = re.sub(r\"\\s+\", \" \", text).strip()\n",
    "    return text.lower()"
   ]
  },
  {
   "cell_type": "code",
   "execution_count": 14,
   "id": "db4c7c4a",
   "metadata": {},
   "outputs": [],
   "source": [
    "def batched_encode(texts, model, batch_size=100):\n",
    "    embeddings = []\n",
    "    for i in tqdm(range(0, len(texts), batch_size)):\n",
    "        batch = texts[i:i+batch_size]\n",
    "        emb = model.encode(batch, convert_to_tensor=True)\n",
    "        embeddings.append(emb)\n",
    "    return torch.cat(embeddings)"
   ]
  },
  {
   "cell_type": "code",
   "execution_count": 11,
   "id": "221c962a",
   "metadata": {},
   "outputs": [],
   "source": [
    "engine_url = f\"mysql+pymysql://{rds_user}:{rds_pwd}@{rds_host}:{rds_port}/{rds_db}\"\n",
    "engine = create_engine(engine_url)\n",
    "\n",
    "df_readme = pd.read_sql_table(\"github_readmes\", con=engine)\n",
    "df_kipris = pd.read_sql_table(\"kipris_patent\", con=engine)\n",
    "df_repos = pd.read_sql_table(\"github_repo\", con=engine)\n",
    "\n",
    "merged_df = pd.merge(df_readme, df_kipris, on=\"keyword\", how=\"inner\")"
   ]
  },
  {
   "cell_type": "code",
   "execution_count": 12,
   "id": "a5663a22",
   "metadata": {},
   "outputs": [
    {
     "name": "stdout",
     "output_type": "stream",
     "text": [
      "           readme_count  patent_count\n",
      "keyword                              \n",
      "robot               128           954\n",
      "ROS                  77           166\n",
      "robotics             52           952\n",
      "amr                   6           811\n",
      "robot arm             1            14\n"
     ]
    }
   ],
   "source": [
    "summary = (\n",
    "    pd.concat([\n",
    "        df_readme[\"keyword\"].value_counts().rename(\"readme_count\"),\n",
    "        df_kipris[\"keyword\"].value_counts().rename(\"patent_count\")\n",
    "    ], axis=1)\n",
    "    .fillna(0)\n",
    "    .astype(int)\n",
    ")\n",
    "print(summary)"
   ]
  },
  {
   "cell_type": "code",
   "execution_count": 15,
   "id": "ec583a98",
   "metadata": {},
   "outputs": [
    {
     "name": "stdout",
     "output_type": "stream",
     "text": [
      "공통 키워드 5개 분석 대상: ['ROS', 'amr', 'robot', 'robot arm', 'robotics']\n"
     ]
    },
    {
     "name": "stderr",
     "output_type": "stream",
     "text": [
      "100%|██████████| 2/2 [00:17<00:00,  8.59s/it]\n",
      "100%|██████████| 9/9 [01:35<00:00, 10.60s/it]\n",
      "100%|██████████| 10/10 [01:59<00:00, 11.99s/it]\n",
      "100%|██████████| 1/1 [00:01<00:00,  1.85s/it]\n",
      "100%|██████████| 10/10 [01:50<00:00, 11.02s/it]"
     ]
    },
    {
     "name": "stdout",
     "output_type": "stream",
     "text": [
      "     keyword  num_readme  num_patent  mean_similarity  max_similarity\n",
      "2      robot         128         954           0.3298          0.7622\n",
      "4   robotics          52         952           0.2506          0.6902\n",
      "3  robot arm           1          14           0.2503          0.3943\n",
      "1        amr           6         811           0.2379          0.6280\n",
      "0        ROS          77         166           0.2058          0.6856\n"
     ]
    },
    {
     "name": "stderr",
     "output_type": "stream",
     "text": [
      "\n"
     ]
    }
   ],
   "source": [
    "model = SentenceTransformer(\"paraphrase-multilingual-MiniLM-L12-v2\")\n",
    "\n",
    "keywords = sorted(set(df_readme[\"keyword\"]).intersection(set(df_kipris[\"keyword\"])))\n",
    "print(f\"공통 키워드 {len(keywords)}개 분석 대상:\", keywords)\n",
    "\n",
    "# 4️⃣ 결과 저장용 리스트\n",
    "results = []\n",
    "\n",
    "# 5️⃣ 키워드별로 README vs 특허 간 유사도 계산\n",
    "for kw in keywords:\n",
    "    read_texts = df_readme[df_readme[\"keyword\"] == kw][\"readme\"].dropna().tolist()\n",
    "    patent_texts = df_kipris[df_kipris[\"keyword\"] == kw][\"astrtCont\"].dropna().tolist()\n",
    "\n",
    "    if not read_texts or not patent_texts:\n",
    "        continue\n",
    "\n",
    "    # 임베딩 계산\n",
    "    read_emb = model.encode(read_texts, convert_to_tensor=True)\n",
    "    patent_emb = batched_encode(patent_texts, model, batch_size=100)\n",
    "\n",
    "    # 코사인 유사도 계산\n",
    "    sim_matrix = util.cos_sim(read_emb, patent_emb)\n",
    "\n",
    "    # 평균/최대 유사도 계산\n",
    "    mean_sim = torch.mean(sim_matrix).item()\n",
    "    max_sim = torch.max(sim_matrix).item()\n",
    "\n",
    "    results.append({\n",
    "        \"keyword\": kw,\n",
    "        \"num_readme\": len(read_texts),\n",
    "        \"num_patent\": len(patent_texts),\n",
    "        \"mean_similarity\": round(mean_sim, 4),\n",
    "        \"max_similarity\": round(max_sim, 4)\n",
    "    })\n",
    "\n",
    "# 6️⃣ 결과 DataFrame 변환\n",
    "sim_df = pd.DataFrame(results).sort_values(\"mean_similarity\", ascending=False)\n",
    "print(sim_df)"
   ]
  },
  {
   "cell_type": "markdown",
   "id": "26cd3cb9",
   "metadata": {},
   "source": [
    "# 유사도 수치 의미\n",
    "## 0.75 이상 : 의미적으로 매우 유사\n",
    "## 0.5 ~ 0.75 : 관련은 잇으나 초점이 다름\n",
    "## 0.3 ~ 0.5 : 주제 연관은 있으나 다른 방향\n",
    "## 0.3 미만 : 거의 관련 없음\n",
    "\n",
    "##### mean_similarity : 해당 수치가 높을수록 README 내용과 특허 기술 개념이 전반적으로 유사하다고 생각 할 수 있음\n",
    "##### max_similarity : 키워드 내에서 가장 가까운 문서쌍의 유사도 (특정 키워드 README <-> 특정 키워드 특허정보)"
   ]
  },
  {
   "cell_type": "markdown",
   "id": "93634032",
   "metadata": {},
   "source": [
    "(1) 키워드별 평균 유사도 분석\n",
    "\n",
    "예: robot arm 관련 프로젝트는 평균 0.35 → 기술접점 많음\n",
    "\n",
    "반면 amr 평균 0.21 → 산업계/연구 간 용어 차이 큼\n",
    "\n",
    "(2) README vs 특허의 기술 영역 차이\n",
    "\n",
    "README는 소프트웨어/오픈소스 구현 중심\n",
    "\n",
    "특허는 하드웨어/알고리즘 원리 중심\n",
    "\n",
    "같은 ‘ROS’라도 오픈소스 패키지 vs 제어장치 특허로 방향 다름\n",
    "\n",
    "(3) 연구-산업 기술 연결 지도 (Tech Landscape Map)\n",
    "\n",
    "키워드별로 README–특허 유사도 시각화 (히트맵, 네트워크 그래프 등)\n",
    "\n",
    "유사도가 높은 README ↔ 특허 쌍은 “산업화 잠재력 높은 기술군”으로 간주 가능"
   ]
  },
  {
   "cell_type": "code",
   "execution_count": 16,
   "id": "84cfe3dc",
   "metadata": {},
   "outputs": [
    {
     "name": "stdout",
     "output_type": "stream",
     "text": [
      "공통 키워드 5개 분석 중: ['ROS', 'amr', 'robot', 'robot arm', 'robotics']\n"
     ]
    },
    {
     "name": "stderr",
     "output_type": "stream",
     "text": [
      "유사 문서쌍 분석 진행 중: 100%|██████████| 5/5 [08:12<00:00, 98.46s/it] \n"
     ]
    },
    {
     "data": {
      "text/plain": [
       "23"
      ]
     },
     "execution_count": 16,
     "metadata": {},
     "output_type": "execute_result"
    }
   ],
   "source": [
    "keywords = sorted(set(df_readme[\"keyword\"]).intersection(set(df_kipris[\"keyword\"])))\n",
    "print(f\"공통 키워드 {len(keywords)}개 분석 중: {keywords}\")\n",
    "\n",
    "# 3️⃣ 결과 저장용\n",
    "summary_results = []\n",
    "\n",
    "# 4️⃣ 키워드별 반복 분석\n",
    "for kw in tqdm(keywords, desc=\"유사 문서쌍 분석 진행 중\"):\n",
    "    df_r = df_readme[df_readme[\"keyword\"] == kw].dropna(subset=[\"readme\"]).reset_index(drop=True)\n",
    "    df_p = df_kipris[df_kipris[\"keyword\"] == kw].dropna(subset=[\"astrtCont\"]).reset_index(drop=True)\n",
    "\n",
    "    if len(df_r) == 0 or len(df_p) == 0:\n",
    "        continue\n",
    "\n",
    "    # --- 임베딩 계산 ---\n",
    "    emb_r = model.encode(df_r[\"readme\"].tolist(), convert_to_tensor=True)\n",
    "    emb_p = model.encode(df_p[\"astrtCont\"].tolist(), convert_to_tensor=True)\n",
    "\n",
    "    # --- 코사인 유사도 행렬 계산 ---\n",
    "    cos_sim = util.cos_sim(emb_r, emb_p)\n",
    "\n",
    "    # --- 상위 5개 문서쌍 추출 ---\n",
    "    pairs = []\n",
    "    for i in range(len(df_r)):\n",
    "        for j in range(len(df_p)):\n",
    "            pairs.append((i, j, cos_sim[i][j].item()))\n",
    "\n",
    "    top_pairs = sorted(pairs, key=lambda x: x[2], reverse=True)[:5]\n",
    "\n",
    "    for r_idx, p_idx, score in top_pairs:\n",
    "        readme_text = df_r.loc[r_idx, \"readme\"][:300].replace(\"\\n\", \" \")\n",
    "        patent_text = df_p.loc[p_idx, \"astrtCont\"][:300].replace(\"\\n\", \" \")\n",
    "\n",
    "        # --- 간단 요약 생성 ---\n",
    "        # summary = (\n",
    "        #     f\"공통점: 두 문서 모두 '{kw}' 관련 기술에 초점을 맞추며, \"\n",
    "        #     f\"README는 '{df_r.loc[r_idx, 'full_name']}' 프로젝트에서 구현된 기능(예: 제어, 센서, 경로계획)을 설명하고, \"\n",
    "        #     f\"특허 '{df_p.loc[p_idx, 'inventionTitle']}'은 유사한 개념을 하드웨어적/알고리즘적 수준에서 다룹니다. \"\n",
    "        #     f\"차이점: README는 오픈소스 구현 중심, 특허는 기술 보호를 위한 상세 원리 중심입니다.\"\n",
    "        # )\n",
    "\n",
    "        summary_results.append({\n",
    "            \"keyword\": kw,\n",
    "            \"similarity\": round(score, 4),\n",
    "            \"readme_repo\": df_r.loc[r_idx, \"full_name\"],\n",
    "            \"patent_title\": df_p.loc[p_idx, \"inventionTitle\"],\n",
    "            \"readme_excerpt\": readme_text,\n",
    "            \"patent_excerpt\": patent_text\n",
    "            # \"summary\": summary\n",
    "        })\n",
    "\n",
    "# 5️⃣ 결과 DataFrame 생성\n",
    "report_df = pd.DataFrame(summary_results)\n",
    "report_df.drop_duplicates(subset=[\"keyword\", \"readme_repo\", \"patent_title\"], keep=\"first\", inplace=True)\n",
    "report_df = report_df.sort_values([\"keyword\", \"similarity\"], ascending=[True, False])\n",
    "\n",
    "\n",
    "report_df.to_sql(\n",
    "    name=\"similarity\",\n",
    "    con=engine,\n",
    "    if_exists=\"replace\",   # 기존 데이터 유지하며 추가하려면 append / 덮어쓰려면 replace\n",
    "    index=False,\n",
    "    chunksize=100,\n",
    "    dtype={\n",
    "        \"keyword\": String(100),\n",
    "        \"similarity\": Float,\n",
    "        \"readme_repo\": String(255),\n",
    "        \"patent_title\": String(500),\n",
    "        \"readme_excerpt\": Text,\n",
    "        \"patent_excerpt\": Text\n",
    "        # \"summary\": Text\n",
    "    }\n",
    ")\n",
    "\n",
    "\n"
   ]
  },
  {
   "cell_type": "code",
   "execution_count": 17,
   "id": "c85de0c0",
   "metadata": {},
   "outputs": [
    {
     "data": {
      "image/png": "[encoded data removed]",
      "text/plain": [
       "<Figure size 1000x500 with 1 Axes>"
      ]
     },
     "metadata": {},
     "output_type": "display_data"
    }
   ],
   "source": [
    "mean_sim = report_df.groupby(\"keyword\")[\"similarity\"].mean().rename(\"mean_similarity\")\n",
    "max_sim = report_df.groupby(\"keyword\")[\"similarity\"].max().rename(\"max_similarity\")\n",
    "\n",
    "# 2. Combine into one DataFrame\n",
    "sim_df = pd.concat([mean_sim, max_sim], axis=1).reset_index()\n",
    "\n",
    "# 3. Melt for seaborn hue plotting\n",
    "sim_melted = sim_df.melt(id_vars=\"keyword\", var_name=\"metric\", value_name=\"similarity\")\n",
    "\n",
    "# 4. Plot with seaborn\n",
    "plt.figure(figsize=(10, 5))\n",
    "sns.barplot(\n",
    "    data=sim_melted.sort_values(\"similarity\", ascending=False),\n",
    "    x=\"keyword\",\n",
    "    y=\"similarity\",\n",
    "    hue=\"metric\",\n",
    "    palette=\"coolwarm\"\n",
    ")\n",
    "plt.title(\"Mean vs Max Similarity by Keyword\", fontsize=14)\n",
    "plt.xlabel(\"Keyword\")\n",
    "plt.ylabel(\"Similarity\")\n",
    "plt.xticks(rotation=45, ha=\"right\")\n",
    "plt.legend(title=\"Metric\")\n",
    "plt.tight_layout()\n",
    "plt.show()\n"
   ]
  },
  {
   "cell_type": "code",
   "execution_count": 18,
   "id": "94a5668a",
   "metadata": {},
   "outputs": [
    {
     "data": {
      "image/png": "[encoded data removed]",
      "text/plain": [
       "<Figure size 1200x600 with 1 Axes>"
      ]
     },
     "metadata": {},
     "output_type": "display_data"
    }
   ],
   "source": [
    "df_readme['year'] = pd.to_datetime(df_repos['created_at']).dt.year\n",
    "df_kipris['year'] = pd.to_datetime(df_kipris['applicationDate']).dt.year\n",
    "\n",
    "trend_read = df_readme.groupby(['keyword', 'year']).size().reset_index(name='count_readme')\n",
    "trend_pat = df_kipris.groupby(['keyword', 'year']).size().reset_index(name='count_patent')\n",
    "\n",
    "trend = pd.merge(trend_read, trend_pat, on=['keyword', 'year'], how='outer').fillna(0)\n",
    "\n",
    "plt.figure(figsize=(12, 6))\n",
    "sns.lineplot(data=trend, x=\"year\", y=\"count_readme\", hue=\"keyword\", marker=\"o\", palette=\"tab10\")\n",
    "sns.lineplot(data=trend, x=\"year\", y=\"count_patent\", hue=\"keyword\", marker=\"x\", linestyle=\"--\", legend=False)\n",
    "plt.title(\"GitHub vs Patent Trend by Keyword\")\n",
    "plt.xlabel(\"Year\")\n",
    "plt.ylabel(\"Count\")\n",
    "plt.tight_layout()\n",
    "plt.show()"
   ]
  },
  {
   "cell_type": "code",
   "execution_count": 19,
   "id": "7f1f4bb9",
   "metadata": {},
   "outputs": [
    {
     "data": {
      "image/png": "[encoded data removed]",
      "text/plain": [
       "<Figure size 1200x600 with 1 Axes>"
      ]
     },
     "metadata": {},
     "output_type": "display_data"
    }
   ],
   "source": [
    "trend_smooth = trend.copy()\n",
    "trend_smooth[\"readme_smooth\"] = trend_smooth.groupby(\"keyword\")[\"count_readme\"].transform(lambda x: x.rolling(3, min_periods=1).mean())\n",
    "trend_smooth[\"patent_smooth\"] = trend_smooth.groupby(\"keyword\")[\"count_patent\"].transform(lambda x: x.rolling(3, min_periods=1).mean())\n",
    "\n",
    "plt.figure(figsize=(12, 6))\n",
    "for kw in trend_smooth[\"keyword\"].unique():\n",
    "    subset = trend_smooth[trend_smooth[\"keyword\"] == kw]\n",
    "    plt.plot(subset[\"year\"], subset[\"readme_smooth\"], label=f\"{kw} - GitHub\", linestyle=\"-\")\n",
    "    plt.plot(subset[\"year\"], subset[\"patent_smooth\"], label=f\"{kw} - Patent\", linestyle=\"--\")\n",
    "plt.title(\"3-Year Rolling Mean Trend (GitHub vs Patent)\")\n",
    "plt.xlabel(\"Year\")\n",
    "plt.ylabel(\"Smoothed Count\")\n",
    "plt.legend()\n",
    "plt.tight_layout()\n",
    "plt.show()"
   ]
  },
  {
   "cell_type": "code",
   "execution_count": 20,
   "id": "59c02707",
   "metadata": {},
   "outputs": [
    {
     "data": {
      "image/png": "[encoded data removed]",
      "text/plain": [
       "<Figure size 1000x500 with 1 Axes>"
      ]
     },
     "metadata": {},
     "output_type": "display_data"
    }
   ],
   "source": [
    "first_git = df_readme.groupby(\"keyword\")[\"year\"].min().rename(\"first_readme\")\n",
    "first_pat = df_kipris.groupby(\"keyword\")[\"year\"].min().rename(\"first_patent\")\n",
    "\n",
    "timing = pd.concat([first_git, first_pat], axis=1).dropna()\n",
    "timing[\"gap\"] = timing[\"first_patent\"] - timing[\"first_readme\"]\n",
    "\n",
    "plt.figure(figsize=(10, 5))\n",
    "sns.barplot(data=timing.reset_index(), x=\"keyword\", y=\"gap\", hue=\"keyword\", palette=\"coolwarm\")\n",
    "plt.axhline(0, color=\"black\", linewidth=1)\n",
    "plt.title(\"Knowledge Transfer Gap (Patent Year - GitHub Year)\")\n",
    "plt.xlabel(\"Keyword\")\n",
    "plt.ylabel(\"Year Difference (Positive = GitHub → Patent)\")\n",
    "plt.tight_layout()\n",
    "plt.show()"
   ]
  },
  {
   "cell_type": "code",
   "execution_count": 21,
   "id": "d2577451",
   "metadata": {},
   "outputs": [
    {
     "data": {
      "image/png": "[encoded data removed]",
      "text/plain": [
       "<Figure size 1000x500 with 2 Axes>"
      ]
     },
     "metadata": {},
     "output_type": "display_data"
    },
    {
     "data": {
      "image/png": "[encoded data removed]",
      "text/plain": [
       "<Figure size 1000x500 with 2 Axes>"
      ]
     },
     "metadata": {},
     "output_type": "display_data"
    }
   ],
   "source": [
    "pivot_read = trend.pivot_table(index=\"keyword\", columns=\"year\", values=\"count_readme\", fill_value=0)\n",
    "plt.figure(figsize=(10, 5))\n",
    "sns.heatmap(pivot_read, cmap=\"Blues\", linewidths=0.3)\n",
    "plt.title(\"GitHub Activity Heatmap by Keyword-Year\")\n",
    "plt.xlabel(\"Year\")\n",
    "plt.ylabel(\"Keyword\")\n",
    "plt.tight_layout()\n",
    "plt.show()\n",
    "\n",
    "# Patent Heatmap\n",
    "pivot_pat = trend.pivot_table(index=\"keyword\", columns=\"year\", values=\"count_patent\", fill_value=0)\n",
    "plt.figure(figsize=(10, 5))\n",
    "sns.heatmap(pivot_pat, cmap=\"Reds\", linewidths=0.3)\n",
    "plt.title(\"Patent Activity Heatmap by Keyword-Year\")\n",
    "plt.xlabel(\"Year\")\n",
    "plt.ylabel(\"Keyword\")\n",
    "plt.tight_layout()\n",
    "plt.show()"
   ]
  },
  {
   "cell_type": "code",
   "execution_count": 22,
   "id": "b9dc5cba",
   "metadata": {},
   "outputs": [
    {
     "data": {
      "application/vnd.plotly.v1+json": {
       "config": {
        "plotlyServerURL": "https://plot.ly"
       },
       "data": [
        {
         "link": {
          "color": "rgba(0,150,200,0.6)",
          "source": [
           0,
           1,
           2,
           3,
           4
          ],
          "target": [
           5,
           5,
           5,
           5,
           5
          ],
          "value": [
           166,
           811,
           952,
           14,
           952
          ]
         },
         "node": {
          "color": "lightgray",
          "label": [
           "ROS",
           "amr",
           "robot",
           "robot arm",
           "robotics",
           "Patent"
          ],
          "pad": 15,
          "thickness": 20
         },
         "type": "sankey"
        }
       ],
       "layout": {
        "font": {
         "size": 12
        },
        "template": {
         "data": {
          "bar": [
           {
            "error_x": {
             "color": "#2a3f5f"
            },
            "error_y": {
             "color": "#2a3f5f"
            },
            "marker": {
             "line": {
              "color": "#E5ECF6",
              "width": 0.5
             },
             "pattern": {
              "fillmode": "overlay",
              "size": 10,
              "solidity": 0.2
             }
            },
            "type": "bar"
           }
          ],
          "barpolar": [
           {
            "marker": {
             "line": {
              "color": "#E5ECF6",
              "width": 0.5
             },
             "pattern": {
              "fillmode": "overlay",
              "size": 10,
              "solidity": 0.2
             }
            },
            "type": "barpolar"
           }
          ],
          "carpet": [
           {
            "aaxis": {
             "endlinecolor": "#2a3f5f",
             "gridcolor": "white",
             "linecolor": "white",
             "minorgridcolor": "white",
             "startlinecolor": "#2a3f5f"
            },
            "baxis": {
             "endlinecolor": "#2a3f5f",
             "gridcolor": "white",
             "linecolor": "white",
             "minorgridcolor": "white",
             "startlinecolor": "#2a3f5f"
            },
            "type": "carpet"
           }
          ],
          "choropleth": [
           {
            "colorbar": {
             "outlinewidth": 0,
             "ticks": ""
            },
            "type": "choropleth"
           }
          ],
          "contour": [
           {
            "colorbar": {
             "outlinewidth": 0,
             "ticks": ""
            },
            "colorscale": [
             [
              0,
              "#0d0887"
             ],
             [
              0.1111111111111111,
              "#46039f"
             ],
             [
              0.2222222222222222,
              "#7201a8"
             ],
             [
              0.3333333333333333,
              "#9c179e"
             ],
             [
              0.4444444444444444,
              "#bd3786"
             ],
             [
              0.5555555555555556,
              "#d8576b"
             ],
             [
              0.6666666666666666,
              "#ed7953"
             ],
             [
              0.7777777777777778,
              "#fb9f3a"
             ],
             [
              0.8888888888888888,
              "#fdca26"
             ],
             [
              1,
              "#f0f921"
             ]
            ],
            "type": "contour"
           }
          ],
          "contourcarpet": [
           {
            "colorbar": {
             "outlinewidth": 0,
             "ticks": ""
            },
            "type": "contourcarpet"
           }
          ],
          "heatmap": [
           {
            "colorbar": {
             "outlinewidth": 0,
             "ticks": ""
            },
            "colorscale": [
             [
              0,
              "#0d0887"
             ],
             [
              0.1111111111111111,
              "#46039f"
             ],
             [
              0.2222222222222222,
              "#7201a8"
             ],
             [
              0.3333333333333333,
              "#9c179e"
             ],
             [
              0.4444444444444444,
              "#bd3786"
             ],
             [
              0.5555555555555556,
              "#d8576b"
             ],
             [
              0.6666666666666666,
              "#ed7953"
             ],
             [
              0.7777777777777778,
              "#fb9f3a"
             ],
             [
              0.8888888888888888,
              "#fdca26"
             ],
             [
              1,
              "#f0f921"
             ]
            ],
            "type": "heatmap"
           }
          ],
          "histogram": [
           {
            "marker": {
             "pattern": {
              "fillmode": "overlay",
              "size": 10,
              "solidity": 0.2
             }
            },
            "type": "histogram"
           }
          ],
          "histogram2d": [
           {
            "colorbar": {
             "outlinewidth": 0,
             "ticks": ""
            },
            "colorscale": [
             [
              0,
              "#0d0887"
             ],
             [
              0.1111111111111111,
              "#46039f"
             ],
             [
              0.2222222222222222,
              "#7201a8"
             ],
             [
              0.3333333333333333,
              "#9c179e"
             ],
             [
              0.4444444444444444,
              "#bd3786"
             ],
             [
              0.5555555555555556,
              "#d8576b"
             ],
             [
              0.6666666666666666,
              "#ed7953"
             ],
             [
              0.7777777777777778,
              "#fb9f3a"
             ],
             [
              0.8888888888888888,
              "#fdca26"
             ],
             [
              1,
              "#f0f921"
             ]
            ],
            "type": "histogram2d"
           }
          ],
          "histogram2dcontour": [
           {
            "colorbar": {
             "outlinewidth": 0,
             "ticks": ""
            },
            "colorscale": [
             [
              0,
              "#0d0887"
             ],
             [
              0.1111111111111111,
              "#46039f"
             ],
             [
              0.2222222222222222,
              "#7201a8"
             ],
             [
              0.3333333333333333,
              "#9c179e"
             ],
             [
              0.4444444444444444,
              "#bd3786"
             ],
             [
              0.5555555555555556,
              "#d8576b"
             ],
             [
              0.6666666666666666,
              "#ed7953"
             ],
             [
              0.7777777777777778,
              "#fb9f3a"
             ],
             [
              0.8888888888888888,
              "#fdca26"
             ],
             [
              1,
              "#f0f921"
             ]
            ],
            "type": "histogram2dcontour"
           }
          ],
          "mesh3d": [
           {
            "colorbar": {
             "outlinewidth": 0,
             "ticks": ""
            },
            "type": "mesh3d"
           }
          ],
          "parcoords": [
           {
            "line": {
             "colorbar": {
              "outlinewidth": 0,
              "ticks": ""
             }
            },
            "type": "parcoords"
           }
          ],
          "pie": [
           {
            "automargin": true,
            "type": "pie"
           }
          ],
          "scatter": [
           {
            "fillpattern": {
             "fillmode": "overlay",
             "size": 10,
             "solidity": 0.2
            },
            "type": "scatter"
           }
          ],
          "scatter3d": [
           {
            "line": {
             "colorbar": {
              "outlinewidth": 0,
              "ticks": ""
             }
            },
            "marker": {
             "colorbar": {
              "outlinewidth": 0,
              "ticks": ""
             }
            },
            "type": "scatter3d"
           }
          ],
          "scattercarpet": [
           {
            "marker": {
             "colorbar": {
              "outlinewidth": 0,
              "ticks": ""
             }
            },
            "type": "scattercarpet"
           }
          ],
          "scattergeo": [
           {
            "marker": {
             "colorbar": {
              "outlinewidth": 0,
              "ticks": ""
             }
            },
            "type": "scattergeo"
           }
          ],
          "scattergl": [
           {
            "marker": {
             "colorbar": {
              "outlinewidth": 0,
              "ticks": ""
             }
            },
            "type": "scattergl"
           }
          ],
          "scattermap": [
           {
            "marker": {
             "colorbar": {
              "outlinewidth": 0,
              "ticks": ""
             }
            },
            "type": "scattermap"
           }
          ],
          "scattermapbox": [
           {
            "marker": {
             "colorbar": {
              "outlinewidth": 0,
              "ticks": ""
             }
            },
            "type": "scattermapbox"
           }
          ],
          "scatterpolar": [
           {
            "marker": {
             "colorbar": {
              "outlinewidth": 0,
              "ticks": ""
             }
            },
            "type": "scatterpolar"
           }
          ],
          "scatterpolargl": [
           {
            "marker": {
             "colorbar": {
              "outlinewidth": 0,
              "ticks": ""
             }
            },
            "type": "scatterpolargl"
           }
          ],
          "scatterternary": [
           {
            "marker": {
             "colorbar": {
              "outlinewidth": 0,
              "ticks": ""
             }
            },
            "type": "scatterternary"
           }
          ],
          "surface": [
           {
            "colorbar": {
             "outlinewidth": 0,
             "ticks": ""
            },
            "colorscale": [
             [
              0,
              "#0d0887"
             ],
             [
              0.1111111111111111,
              "#46039f"
             ],
             [
              0.2222222222222222,
              "#7201a8"
             ],
             [
              0.3333333333333333,
              "#9c179e"
             ],
             [
              0.4444444444444444,
              "#bd3786"
             ],
             [
              0.5555555555555556,
              "#d8576b"
             ],
             [
              0.6666666666666666,
              "#ed7953"
             ],
             [
              0.7777777777777778,
              "#fb9f3a"
             ],
             [
              0.8888888888888888,
              "#fdca26"
             ],
             [
              1,
              "#f0f921"
             ]
            ],
            "type": "surface"
           }
          ],
          "table": [
           {
            "cells": {
             "fill": {
              "color": "#EBF0F8"
             },
             "line": {
              "color": "white"
             }
            },
            "header": {
             "fill": {
              "color": "#C8D4E3"
             },
             "line": {
              "color": "white"
             }
            },
            "type": "table"
           }
          ]
         },
         "layout": {
          "annotationdefaults": {
           "arrowcolor": "#2a3f5f",
           "arrowhead": 0,
           "arrowwidth": 1
          },
          "autotypenumbers": "strict",
          "coloraxis": {
           "colorbar": {
            "outlinewidth": 0,
            "ticks": ""
           }
          },
          "colorscale": {
           "diverging": [
            [
             0,
             "#8e0152"
            ],
            [
             0.1,
             "#c51b7d"
            ],
            [
             0.2,
             "#de77ae"
            ],
            [
             0.3,
             "#f1b6da"
            ],
            [
             0.4,
             "#fde0ef"
            ],
            [
             0.5,
             "#f7f7f7"
            ],
            [
             0.6,
             "#e6f5d0"
            ],
            [
             0.7,
             "#b8e186"
            ],
            [
             0.8,
             "#7fbc41"
            ],
            [
             0.9,
             "#4d9221"
            ],
            [
             1,
             "#276419"
            ]
           ],
           "sequential": [
            [
             0,
             "#0d0887"
            ],
            [
             0.1111111111111111,
             "#46039f"
            ],
            [
             0.2222222222222222,
             "#7201a8"
            ],
            [
             0.3333333333333333,
             "#9c179e"
            ],
            [
             0.4444444444444444,
             "#bd3786"
            ],
            [
             0.5555555555555556,
             "#d8576b"
            ],
            [
             0.6666666666666666,
             "#ed7953"
            ],
            [
             0.7777777777777778,
             "#fb9f3a"
            ],
            [
             0.8888888888888888,
             "#fdca26"
            ],
            [
             1,
             "#f0f921"
            ]
           ],
           "sequentialminus": [
            [
             0,
             "#0d0887"
            ],
            [
             0.1111111111111111,
             "#46039f"
            ],
            [
             0.2222222222222222,
             "#7201a8"
            ],
            [
             0.3333333333333333,
             "#9c179e"
            ],
            [
             0.4444444444444444,
             "#bd3786"
            ],
            [
             0.5555555555555556,
             "#d8576b"
            ],
            [
             0.6666666666666666,
             "#ed7953"
            ],
            [
             0.7777777777777778,
             "#fb9f3a"
            ],
            [
             0.8888888888888888,
             "#fdca26"
            ],
            [
             1,
             "#f0f921"
            ]
           ]
          },
          "colorway": [
           "#636efa",
           "#EF553B",
           "#00cc96",
           "#ab63fa",
           "#FFA15A",
           "#19d3f3",
           "#FF6692",
           "#B6E880",
           "#FF97FF",
           "#FECB52"
          ],
          "font": {
           "color": "#2a3f5f"
          },
          "geo": {
           "bgcolor": "white",
           "lakecolor": "white",
           "landcolor": "#E5ECF6",
           "showlakes": true,
           "showland": true,
           "subunitcolor": "white"
          },
          "hoverlabel": {
           "align": "left"
          },
          "hovermode": "closest",
          "mapbox": {
           "style": "light"
          },
          "paper_bgcolor": "white",
          "plot_bgcolor": "#E5ECF6",
          "polar": {
           "angularaxis": {
            "gridcolor": "white",
            "linecolor": "white",
            "ticks": ""
           },
           "bgcolor": "#E5ECF6",
           "radialaxis": {
            "gridcolor": "white",
            "linecolor": "white",
            "ticks": ""
           }
          },
          "scene": {
           "xaxis": {
            "backgroundcolor": "#E5ECF6",
            "gridcolor": "white",
            "gridwidth": 2,
            "linecolor": "white",
            "showbackground": true,
            "ticks": "",
            "zerolinecolor": "white"
           },
           "yaxis": {
            "backgroundcolor": "#E5ECF6",
            "gridcolor": "white",
            "gridwidth": 2,
            "linecolor": "white",
            "showbackground": true,
            "ticks": "",
            "zerolinecolor": "white"
           },
           "zaxis": {
            "backgroundcolor": "#E5ECF6",
            "gridcolor": "white",
            "gridwidth": 2,
            "linecolor": "white",
            "showbackground": true,
            "ticks": "",
            "zerolinecolor": "white"
           }
          },
          "shapedefaults": {
           "line": {
            "color": "#2a3f5f"
           }
          },
          "ternary": {
           "aaxis": {
            "gridcolor": "white",
            "linecolor": "white",
            "ticks": ""
           },
           "baxis": {
            "gridcolor": "white",
            "linecolor": "white",
            "ticks": ""
           },
           "bgcolor": "#E5ECF6",
           "caxis": {
            "gridcolor": "white",
            "linecolor": "white",
            "ticks": ""
           }
          },
          "title": {
           "x": 0.05
          },
          "xaxis": {
           "automargin": true,
           "gridcolor": "white",
           "linecolor": "white",
           "ticks": "",
           "title": {
            "standoff": 15
           },
           "zerolinecolor": "white",
           "zerolinewidth": 2
          },
          "yaxis": {
           "automargin": true,
           "gridcolor": "white",
           "linecolor": "white",
           "ticks": "",
           "title": {
            "standoff": 15
           },
           "zerolinecolor": "white",
           "zerolinewidth": 2
          }
         }
        },
        "title": {
         "text": "GitHub → Patent (by Patent Count)"
        }
       }
      }
     },
     "metadata": {},
     "output_type": "display_data"
    },
    {
     "data": {
      "application/vnd.plotly.v1+json": {
       "config": {
        "plotlyServerURL": "https://plot.ly"
       },
       "data": [
        {
         "link": {
          "color": "rgba(200,100,0,0.6)",
          "source": [
           0,
           1,
           2,
           3,
           4
          ],
          "target": [
           5,
           5,
           5,
           5,
           5
          ],
          "value": [
           2.155844155844156,
           135.16666666666666,
           7.4375,
           14,
           18.307692307692307
          ]
         },
         "node": {
          "color": "lightgray",
          "label": [
           "ROS",
           "amr",
           "robot",
           "robot arm",
           "robotics",
           "Patent"
          ],
          "pad": 15,
          "thickness": 20
         },
         "type": "sankey"
        }
       ],
       "layout": {
        "font": {
         "size": 12
        },
        "template": {
         "data": {
          "bar": [
           {
            "error_x": {
             "color": "#2a3f5f"
            },
            "error_y": {
             "color": "#2a3f5f"
            },
            "marker": {
             "line": {
              "color": "#E5ECF6",
              "width": 0.5
             },
             "pattern": {
              "fillmode": "overlay",
              "size": 10,
              "solidity": 0.2
             }
            },
            "type": "bar"
           }
          ],
          "barpolar": [
           {
            "marker": {
             "line": {
              "color": "#E5ECF6",
              "width": 0.5
             },
             "pattern": {
              "fillmode": "overlay",
              "size": 10,
              "solidity": 0.2
             }
            },
            "type": "barpolar"
           }
          ],
          "carpet": [
           {
            "aaxis": {
             "endlinecolor": "#2a3f5f",
             "gridcolor": "white",
             "linecolor": "white",
             "minorgridcolor": "white",
             "startlinecolor": "#2a3f5f"
            },
            "baxis": {
             "endlinecolor": "#2a3f5f",
             "gridcolor": "white",
             "linecolor": "white",
             "minorgridcolor": "white",
             "startlinecolor": "#2a3f5f"
            },
            "type": "carpet"
           }
          ],
          "choropleth": [
           {
            "colorbar": {
             "outlinewidth": 0,
             "ticks": ""
            },
            "type": "choropleth"
           }
          ],
          "contour": [
           {
            "colorbar": {
             "outlinewidth": 0,
             "ticks": ""
            },
            "colorscale": [
             [
              0,
              "#0d0887"
             ],
             [
              0.1111111111111111,
              "#46039f"
             ],
             [
              0.2222222222222222,
              "#7201a8"
             ],
             [
              0.3333333333333333,
              "#9c179e"
             ],
             [
              0.4444444444444444,
              "#bd3786"
             ],
             [
              0.5555555555555556,
              "#d8576b"
             ],
             [
              0.6666666666666666,
              "#ed7953"
             ],
             [
              0.7777777777777778,
              "#fb9f3a"
             ],
             [
              0.8888888888888888,
              "#fdca26"
             ],
             [
              1,
              "#f0f921"
             ]
            ],
            "type": "contour"
           }
          ],
          "contourcarpet": [
           {
            "colorbar": {
             "outlinewidth": 0,
             "ticks": ""
            },
            "type": "contourcarpet"
           }
          ],
          "heatmap": [
           {
            "colorbar": {
             "outlinewidth": 0,
             "ticks": ""
            },
            "colorscale": [
             [
              0,
              "#0d0887"
             ],
             [
              0.1111111111111111,
              "#46039f"
             ],
             [
              0.2222222222222222,
              "#7201a8"
             ],
             [
              0.3333333333333333,
              "#9c179e"
             ],
             [
              0.4444444444444444,
              "#bd3786"
             ],
             [
              0.5555555555555556,
              "#d8576b"
             ],
             [
              0.6666666666666666,
              "#ed7953"
             ],
             [
              0.7777777777777778,
              "#fb9f3a"
             ],
             [
              0.8888888888888888,
              "#fdca26"
             ],
             [
              1,
              "#f0f921"
             ]
            ],
            "type": "heatmap"
           }
          ],
          "histogram": [
           {
            "marker": {
             "pattern": {
              "fillmode": "overlay",
              "size": 10,
              "solidity": 0.2
             }
            },
            "type": "histogram"
           }
          ],
          "histogram2d": [
           {
            "colorbar": {
             "outlinewidth": 0,
             "ticks": ""
            },
            "colorscale": [
             [
              0,
              "#0d0887"
             ],
             [
              0.1111111111111111,
              "#46039f"
             ],
             [
              0.2222222222222222,
              "#7201a8"
             ],
             [
              0.3333333333333333,
              "#9c179e"
             ],
             [
              0.4444444444444444,
              "#bd3786"
             ],
             [
              0.5555555555555556,
              "#d8576b"
             ],
             [
              0.6666666666666666,
              "#ed7953"
             ],
             [
              0.7777777777777778,
              "#fb9f3a"
             ],
             [
              0.8888888888888888,
              "#fdca26"
             ],
             [
              1,
              "#f0f921"
             ]
            ],
            "type": "histogram2d"
           }
          ],
          "histogram2dcontour": [
           {
            "colorbar": {
             "outlinewidth": 0,
             "ticks": ""
            },
            "colorscale": [
             [
              0,
              "#0d0887"
             ],
             [
              0.1111111111111111,
              "#46039f"
             ],
             [
              0.2222222222222222,
              "#7201a8"
             ],
             [
              0.3333333333333333,
              "#9c179e"
             ],
             [
              0.4444444444444444,
              "#bd3786"
             ],
             [
              0.5555555555555556,
              "#d8576b"
             ],
             [
              0.6666666666666666,
              "#ed7953"
             ],
             [
              0.7777777777777778,
              "#fb9f3a"
             ],
             [
              0.8888888888888888,
              "#fdca26"
             ],
             [
              1,
              "#f0f921"
             ]
            ],
            "type": "histogram2dcontour"
           }
          ],
          "mesh3d": [
           {
            "colorbar": {
             "outlinewidth": 0,
             "ticks": ""
            },
            "type": "mesh3d"
           }
          ],
          "parcoords": [
           {
            "line": {
             "colorbar": {
              "outlinewidth": 0,
              "ticks": ""
             }
            },
            "type": "parcoords"
           }
          ],
          "pie": [
           {
            "automargin": true,
            "type": "pie"
           }
          ],
          "scatter": [
           {
            "fillpattern": {
             "fillmode": "overlay",
             "size": 10,
             "solidity": 0.2
            },
            "type": "scatter"
           }
          ],
          "scatter3d": [
           {
            "line": {
             "colorbar": {
              "outlinewidth": 0,
              "ticks": ""
             }
            },
            "marker": {
             "colorbar": {
              "outlinewidth": 0,
              "ticks": ""
             }
            },
            "type": "scatter3d"
           }
          ],
          "scattercarpet": [
           {
            "marker": {
             "colorbar": {
              "outlinewidth": 0,
              "ticks": ""
             }
            },
            "type": "scattercarpet"
           }
          ],
          "scattergeo": [
           {
            "marker": {
             "colorbar": {
              "outlinewidth": 0,
              "ticks": ""
             }
            },
            "type": "scattergeo"
           }
          ],
          "scattergl": [
           {
            "marker": {
             "colorbar": {
              "outlinewidth": 0,
              "ticks": ""
             }
            },
            "type": "scattergl"
           }
          ],
          "scattermap": [
           {
            "marker": {
             "colorbar": {
              "outlinewidth": 0,
              "ticks": ""
             }
            },
            "type": "scattermap"
           }
          ],
          "scattermapbox": [
           {
            "marker": {
             "colorbar": {
              "outlinewidth": 0,
              "ticks": ""
             }
            },
            "type": "scattermapbox"
           }
          ],
          "scatterpolar": [
           {
            "marker": {
             "colorbar": {
              "outlinewidth": 0,
              "ticks": ""
             }
            },
            "type": "scatterpolar"
           }
          ],
          "scatterpolargl": [
           {
            "marker": {
             "colorbar": {
              "outlinewidth": 0,
              "ticks": ""
             }
            },
            "type": "scatterpolargl"
           }
          ],
          "scatterternary": [
           {
            "marker": {
             "colorbar": {
              "outlinewidth": 0,
              "ticks": ""
             }
            },
            "type": "scatterternary"
           }
          ],
          "surface": [
           {
            "colorbar": {
             "outlinewidth": 0,
             "ticks": ""
            },
            "colorscale": [
             [
              0,
              "#0d0887"
             ],
             [
              0.1111111111111111,
              "#46039f"
             ],
             [
              0.2222222222222222,
              "#7201a8"
             ],
             [
              0.3333333333333333,
              "#9c179e"
             ],
             [
              0.4444444444444444,
              "#bd3786"
             ],
             [
              0.5555555555555556,
              "#d8576b"
             ],
             [
              0.6666666666666666,
              "#ed7953"
             ],
             [
              0.7777777777777778,
              "#fb9f3a"
             ],
             [
              0.8888888888888888,
              "#fdca26"
             ],
             [
              1,
              "#f0f921"
             ]
            ],
            "type": "surface"
           }
          ],
          "table": [
           {
            "cells": {
             "fill": {
              "color": "#EBF0F8"
             },
             "line": {
              "color": "white"
             }
            },
            "header": {
             "fill": {
              "color": "#C8D4E3"
             },
             "line": {
              "color": "white"
             }
            },
            "type": "table"
           }
          ]
         },
         "layout": {
          "annotationdefaults": {
           "arrowcolor": "#2a3f5f",
           "arrowhead": 0,
           "arrowwidth": 1
          },
          "autotypenumbers": "strict",
          "coloraxis": {
           "colorbar": {
            "outlinewidth": 0,
            "ticks": ""
           }
          },
          "colorscale": {
           "diverging": [
            [
             0,
             "#8e0152"
            ],
            [
             0.1,
             "#c51b7d"
            ],
            [
             0.2,
             "#de77ae"
            ],
            [
             0.3,
             "#f1b6da"
            ],
            [
             0.4,
             "#fde0ef"
            ],
            [
             0.5,
             "#f7f7f7"
            ],
            [
             0.6,
             "#e6f5d0"
            ],
            [
             0.7,
             "#b8e186"
            ],
            [
             0.8,
             "#7fbc41"
            ],
            [
             0.9,
             "#4d9221"
            ],
            [
             1,
             "#276419"
            ]
           ],
           "sequential": [
            [
             0,
             "#0d0887"
            ],
            [
             0.1111111111111111,
             "#46039f"
            ],
            [
             0.2222222222222222,
             "#7201a8"
            ],
            [
             0.3333333333333333,
             "#9c179e"
            ],
            [
             0.4444444444444444,
             "#bd3786"
            ],
            [
             0.5555555555555556,
             "#d8576b"
            ],
            [
             0.6666666666666666,
             "#ed7953"
            ],
            [
             0.7777777777777778,
             "#fb9f3a"
            ],
            [
             0.8888888888888888,
             "#fdca26"
            ],
            [
             1,
             "#f0f921"
            ]
           ],
           "sequentialminus": [
            [
             0,
             "#0d0887"
            ],
            [
             0.1111111111111111,
             "#46039f"
            ],
            [
             0.2222222222222222,
             "#7201a8"
            ],
            [
             0.3333333333333333,
             "#9c179e"
            ],
            [
             0.4444444444444444,
             "#bd3786"
            ],
            [
             0.5555555555555556,
             "#d8576b"
            ],
            [
             0.6666666666666666,
             "#ed7953"
            ],
            [
             0.7777777777777778,
             "#fb9f3a"
            ],
            [
             0.8888888888888888,
             "#fdca26"
            ],
            [
             1,
             "#f0f921"
            ]
           ]
          },
          "colorway": [
           "#636efa",
           "#EF553B",
           "#00cc96",
           "#ab63fa",
           "#FFA15A",
           "#19d3f3",
           "#FF6692",
           "#B6E880",
           "#FF97FF",
           "#FECB52"
          ],
          "font": {
           "color": "#2a3f5f"
          },
          "geo": {
           "bgcolor": "white",
           "lakecolor": "white",
           "landcolor": "#E5ECF6",
           "showlakes": true,
           "showland": true,
           "subunitcolor": "white"
          },
          "hoverlabel": {
           "align": "left"
          },
          "hovermode": "closest",
          "mapbox": {
           "style": "light"
          },
          "paper_bgcolor": "white",
          "plot_bgcolor": "#E5ECF6",
          "polar": {
           "angularaxis": {
            "gridcolor": "white",
            "linecolor": "white",
            "ticks": ""
           },
           "bgcolor": "#E5ECF6",
           "radialaxis": {
            "gridcolor": "white",
            "linecolor": "white",
            "ticks": ""
           }
          },
          "scene": {
           "xaxis": {
            "backgroundcolor": "#E5ECF6",
            "gridcolor": "white",
            "gridwidth": 2,
            "linecolor": "white",
            "showbackground": true,
            "ticks": "",
            "zerolinecolor": "white"
           },
           "yaxis": {
            "backgroundcolor": "#E5ECF6",
            "gridcolor": "white",
            "gridwidth": 2,
            "linecolor": "white",
            "showbackground": true,
            "ticks": "",
            "zerolinecolor": "white"
           },
           "zaxis": {
            "backgroundcolor": "#E5ECF6",
            "gridcolor": "white",
            "gridwidth": 2,
            "linecolor": "white",
            "showbackground": true,
            "ticks": "",
            "zerolinecolor": "white"
           }
          },
          "shapedefaults": {
           "line": {
            "color": "#2a3f5f"
           }
          },
          "ternary": {
           "aaxis": {
            "gridcolor": "white",
            "linecolor": "white",
            "ticks": ""
           },
           "baxis": {
            "gridcolor": "white",
            "linecolor": "white",
            "ticks": ""
           },
           "bgcolor": "#E5ECF6",
           "caxis": {
            "gridcolor": "white",
            "linecolor": "white",
            "ticks": ""
           }
          },
          "title": {
           "x": 0.05
          },
          "xaxis": {
           "automargin": true,
           "gridcolor": "white",
           "linecolor": "white",
           "ticks": "",
           "title": {
            "standoff": 15
           },
           "zerolinecolor": "white",
           "zerolinewidth": 2
          },
          "yaxis": {
           "automargin": true,
           "gridcolor": "white",
           "linecolor": "white",
           "ticks": "",
           "title": {
            "standoff": 15
           },
           "zerolinecolor": "white",
           "zerolinewidth": 2
          }
         }
        },
        "title": {
         "text": "GitHub → Patent (by Transfer Efficiency: Patent/Readme)"
        }
       }
      }
     },
     "metadata": {},
     "output_type": "display_data"
    }
   ],
   "source": [
    "keywords = [\"ROS\", \"amr\", \"robot\", \"robot arm\", \"robotics\"]\n",
    "num_readme = [77, 6, 128, 1, 52]\n",
    "num_patent = [166, 811, 952, 14, 952]\n",
    "\n",
    "# 전이 효율 계산\n",
    "transfer_efficiency = [p/r if r > 0 else 0 for p, r in zip(num_patent, num_readme)]\n",
    "\n",
    "# 1️⃣ 산업 전이 강도 기반 Sankey\n",
    "fig1 = go.Figure(data=[go.Sankey(\n",
    "    node=dict(\n",
    "        label=keywords + [\"Patent\"],\n",
    "        pad=15,\n",
    "        thickness=20,\n",
    "        color=\"lightgray\"\n",
    "    ),\n",
    "    link=dict(\n",
    "        source=list(range(len(keywords))),\n",
    "        target=[len(keywords)] * len(keywords),\n",
    "        value=num_patent,\n",
    "        color=\"rgba(0,150,200,0.6)\"\n",
    "    )\n",
    ")])\n",
    "fig1.update_layout(title_text=\"GitHub → Patent (by Patent Count)\", font_size=12)\n",
    "fig1.show()\n",
    "\n",
    "# 2️⃣ 지식 전이 효율 기반 Sankey\n",
    "fig2 = go.Figure(data=[go.Sankey(\n",
    "    node=dict(\n",
    "        label=keywords + [\"Patent\"],\n",
    "        pad=15,\n",
    "        thickness=20,\n",
    "        color=\"lightgray\"\n",
    "    ),\n",
    "    link=dict(\n",
    "        source=list(range(len(keywords))),\n",
    "        target=[len(keywords)] * len(keywords),\n",
    "        value=transfer_efficiency,\n",
    "        color=\"rgba(200,100,0,0.6)\"\n",
    "    )\n",
    ")])\n",
    "fig2.update_layout(title_text=\"GitHub → Patent (by Transfer Efficiency: Patent/Readme)\", font_size=12)\n",
    "fig2.show()"
   ]
  },
  {
   "cell_type": "code",
   "execution_count": 23,
   "id": "f667aa52",
   "metadata": {},
   "outputs": [
    {
     "data": {
      "application/vnd.plotly.v1+json": {
       "config": {
        "plotlyServerURL": "https://plot.ly"
       },
       "data": [
        {
         "link": {
          "color": "rgba(0,150,200,0.6)",
          "source": [
           0,
           0,
           1,
           1,
           2,
           4,
           3,
           4
          ],
          "target": [
           6,
           9,
           7,
           10,
           5,
           8,
           9,
           10
          ],
          "value": [
           40,
           126,
           210,
           601,
           350,
           500,
           14,
           452
          ]
         },
         "node": {
          "color": "lightgray",
          "label": [
           "ROS",
           "amr",
           "robot",
           "robot arm",
           "robotics",
           "Patent_2019",
           "Patent_2020",
           "Patent_2021",
           "Patent_2022",
           "Patent_2023",
           "Patent_2024"
          ],
          "pad": 15,
          "thickness": 20
         },
         "type": "sankey"
        }
       ],
       "layout": {
        "font": {
         "size": 12
        },
        "height": 600,
        "template": {
         "data": {
          "bar": [
           {
            "error_x": {
             "color": "#2a3f5f"
            },
            "error_y": {
             "color": "#2a3f5f"
            },
            "marker": {
             "line": {
              "color": "#E5ECF6",
              "width": 0.5
             },
             "pattern": {
              "fillmode": "overlay",
              "size": 10,
              "solidity": 0.2
             }
            },
            "type": "bar"
           }
          ],
          "barpolar": [
           {
            "marker": {
             "line": {
              "color": "#E5ECF6",
              "width": 0.5
             },
             "pattern": {
              "fillmode": "overlay",
              "size": 10,
              "solidity": 0.2
             }
            },
            "type": "barpolar"
           }
          ],
          "carpet": [
           {
            "aaxis": {
             "endlinecolor": "#2a3f5f",
             "gridcolor": "white",
             "linecolor": "white",
             "minorgridcolor": "white",
             "startlinecolor": "#2a3f5f"
            },
            "baxis": {
             "endlinecolor": "#2a3f5f",
             "gridcolor": "white",
             "linecolor": "white",
             "minorgridcolor": "white",
             "startlinecolor": "#2a3f5f"
            },
            "type": "carpet"
           }
          ],
          "choropleth": [
           {
            "colorbar": {
             "outlinewidth": 0,
             "ticks": ""
            },
            "type": "choropleth"
           }
          ],
          "contour": [
           {
            "colorbar": {
             "outlinewidth": 0,
             "ticks": ""
            },
            "colorscale": [
             [
              0,
              "#0d0887"
             ],
             [
              0.1111111111111111,
              "#46039f"
             ],
             [
              0.2222222222222222,
              "#7201a8"
             ],
             [
              0.3333333333333333,
              "#9c179e"
             ],
             [
              0.4444444444444444,
              "#bd3786"
             ],
             [
              0.5555555555555556,
              "#d8576b"
             ],
             [
              0.6666666666666666,
              "#ed7953"
             ],
             [
              0.7777777777777778,
              "#fb9f3a"
             ],
             [
              0.8888888888888888,
              "#fdca26"
             ],
             [
              1,
              "#f0f921"
             ]
            ],
            "type": "contour"
           }
          ],
          "contourcarpet": [
           {
            "colorbar": {
             "outlinewidth": 0,
             "ticks": ""
            },
            "type": "contourcarpet"
           }
          ],
          "heatmap": [
           {
            "colorbar": {
             "outlinewidth": 0,
             "ticks": ""
            },
            "colorscale": [
             [
              0,
              "#0d0887"
             ],
             [
              0.1111111111111111,
              "#46039f"
             ],
             [
              0.2222222222222222,
              "#7201a8"
             ],
             [
              0.3333333333333333,
              "#9c179e"
             ],
             [
              0.4444444444444444,
              "#bd3786"
             ],
             [
              0.5555555555555556,
              "#d8576b"
             ],
             [
              0.6666666666666666,
              "#ed7953"
             ],
             [
              0.7777777777777778,
              "#fb9f3a"
             ],
             [
              0.8888888888888888,
              "#fdca26"
             ],
             [
              1,
              "#f0f921"
             ]
            ],
            "type": "heatmap"
           }
          ],
          "histogram": [
           {
            "marker": {
             "pattern": {
              "fillmode": "overlay",
              "size": 10,
              "solidity": 0.2
             }
            },
            "type": "histogram"
           }
          ],
          "histogram2d": [
           {
            "colorbar": {
             "outlinewidth": 0,
             "ticks": ""
            },
            "colorscale": [
             [
              0,
              "#0d0887"
             ],
             [
              0.1111111111111111,
              "#46039f"
             ],
             [
              0.2222222222222222,
              "#7201a8"
             ],
             [
              0.3333333333333333,
              "#9c179e"
             ],
             [
              0.4444444444444444,
              "#bd3786"
             ],
             [
              0.5555555555555556,
              "#d8576b"
             ],
             [
              0.6666666666666666,
              "#ed7953"
             ],
             [
              0.7777777777777778,
              "#fb9f3a"
             ],
             [
              0.8888888888888888,
              "#fdca26"
             ],
             [
              1,
              "#f0f921"
             ]
            ],
            "type": "histogram2d"
           }
          ],
          "histogram2dcontour": [
           {
            "colorbar": {
             "outlinewidth": 0,
             "ticks": ""
            },
            "colorscale": [
             [
              0,
              "#0d0887"
             ],
             [
              0.1111111111111111,
              "#46039f"
             ],
             [
              0.2222222222222222,
              "#7201a8"
             ],
             [
              0.3333333333333333,
              "#9c179e"
             ],
             [
              0.4444444444444444,
              "#bd3786"
             ],
             [
              0.5555555555555556,
              "#d8576b"
             ],
             [
              0.6666666666666666,
              "#ed7953"
             ],
             [
              0.7777777777777778,
              "#fb9f3a"
             ],
             [
              0.8888888888888888,
              "#fdca26"
             ],
             [
              1,
              "#f0f921"
             ]
            ],
            "type": "histogram2dcontour"
           }
          ],
          "mesh3d": [
           {
            "colorbar": {
             "outlinewidth": 0,
             "ticks": ""
            },
            "type": "mesh3d"
           }
          ],
          "parcoords": [
           {
            "line": {
             "colorbar": {
              "outlinewidth": 0,
              "ticks": ""
             }
            },
            "type": "parcoords"
           }
          ],
          "pie": [
           {
            "automargin": true,
            "type": "pie"
           }
          ],
          "scatter": [
           {
            "fillpattern": {
             "fillmode": "overlay",
             "size": 10,
             "solidity": 0.2
            },
            "type": "scatter"
           }
          ],
          "scatter3d": [
           {
            "line": {
             "colorbar": {
              "outlinewidth": 0,
              "ticks": ""
             }
            },
            "marker": {
             "colorbar": {
              "outlinewidth": 0,
              "ticks": ""
             }
            },
            "type": "scatter3d"
           }
          ],
          "scattercarpet": [
           {
            "marker": {
             "colorbar": {
              "outlinewidth": 0,
              "ticks": ""
             }
            },
            "type": "scattercarpet"
           }
          ],
          "scattergeo": [
           {
            "marker": {
             "colorbar": {
              "outlinewidth": 0,
              "ticks": ""
             }
            },
            "type": "scattergeo"
           }
          ],
          "scattergl": [
           {
            "marker": {
             "colorbar": {
              "outlinewidth": 0,
              "ticks": ""
             }
            },
            "type": "scattergl"
           }
          ],
          "scattermap": [
           {
            "marker": {
             "colorbar": {
              "outlinewidth": 0,
              "ticks": ""
             }
            },
            "type": "scattermap"
           }
          ],
          "scattermapbox": [
           {
            "marker": {
             "colorbar": {
              "outlinewidth": 0,
              "ticks": ""
             }
            },
            "type": "scattermapbox"
           }
          ],
          "scatterpolar": [
           {
            "marker": {
             "colorbar": {
              "outlinewidth": 0,
              "ticks": ""
             }
            },
            "type": "scatterpolar"
           }
          ],
          "scatterpolargl": [
           {
            "marker": {
             "colorbar": {
              "outlinewidth": 0,
              "ticks": ""
             }
            },
            "type": "scatterpolargl"
           }
          ],
          "scatterternary": [
           {
            "marker": {
             "colorbar": {
              "outlinewidth": 0,
              "ticks": ""
             }
            },
            "type": "scatterternary"
           }
          ],
          "surface": [
           {
            "colorbar": {
             "outlinewidth": 0,
             "ticks": ""
            },
            "colorscale": [
             [
              0,
              "#0d0887"
             ],
             [
              0.1111111111111111,
              "#46039f"
             ],
             [
              0.2222222222222222,
              "#7201a8"
             ],
             [
              0.3333333333333333,
              "#9c179e"
             ],
             [
              0.4444444444444444,
              "#bd3786"
             ],
             [
              0.5555555555555556,
              "#d8576b"
             ],
             [
              0.6666666666666666,
              "#ed7953"
             ],
             [
              0.7777777777777778,
              "#fb9f3a"
             ],
             [
              0.8888888888888888,
              "#fdca26"
             ],
             [
              1,
              "#f0f921"
             ]
            ],
            "type": "surface"
           }
          ],
          "table": [
           {
            "cells": {
             "fill": {
              "color": "#EBF0F8"
             },
             "line": {
              "color": "white"
             }
            },
            "header": {
             "fill": {
              "color": "#C8D4E3"
             },
             "line": {
              "color": "white"
             }
            },
            "type": "table"
           }
          ]
         },
         "layout": {
          "annotationdefaults": {
           "arrowcolor": "#2a3f5f",
           "arrowhead": 0,
           "arrowwidth": 1
          },
          "autotypenumbers": "strict",
          "coloraxis": {
           "colorbar": {
            "outlinewidth": 0,
            "ticks": ""
           }
          },
          "colorscale": {
           "diverging": [
            [
             0,
             "#8e0152"
            ],
            [
             0.1,
             "#c51b7d"
            ],
            [
             0.2,
             "#de77ae"
            ],
            [
             0.3,
             "#f1b6da"
            ],
            [
             0.4,
             "#fde0ef"
            ],
            [
             0.5,
             "#f7f7f7"
            ],
            [
             0.6,
             "#e6f5d0"
            ],
            [
             0.7,
             "#b8e186"
            ],
            [
             0.8,
             "#7fbc41"
            ],
            [
             0.9,
             "#4d9221"
            ],
            [
             1,
             "#276419"
            ]
           ],
           "sequential": [
            [
             0,
             "#0d0887"
            ],
            [
             0.1111111111111111,
             "#46039f"
            ],
            [
             0.2222222222222222,
             "#7201a8"
            ],
            [
             0.3333333333333333,
             "#9c179e"
            ],
            [
             0.4444444444444444,
             "#bd3786"
            ],
            [
             0.5555555555555556,
             "#d8576b"
            ],
            [
             0.6666666666666666,
             "#ed7953"
            ],
            [
             0.7777777777777778,
             "#fb9f3a"
            ],
            [
             0.8888888888888888,
             "#fdca26"
            ],
            [
             1,
             "#f0f921"
            ]
           ],
           "sequentialminus": [
            [
             0,
             "#0d0887"
            ],
            [
             0.1111111111111111,
             "#46039f"
            ],
            [
             0.2222222222222222,
             "#7201a8"
            ],
            [
             0.3333333333333333,
             "#9c179e"
            ],
            [
             0.4444444444444444,
             "#bd3786"
            ],
            [
             0.5555555555555556,
             "#d8576b"
            ],
            [
             0.6666666666666666,
             "#ed7953"
            ],
            [
             0.7777777777777778,
             "#fb9f3a"
            ],
            [
             0.8888888888888888,
             "#fdca26"
            ],
            [
             1,
             "#f0f921"
            ]
           ]
          },
          "colorway": [
           "#636efa",
           "#EF553B",
           "#00cc96",
           "#ab63fa",
           "#FFA15A",
           "#19d3f3",
           "#FF6692",
           "#B6E880",
           "#FF97FF",
           "#FECB52"
          ],
          "font": {
           "color": "#2a3f5f"
          },
          "geo": {
           "bgcolor": "white",
           "lakecolor": "white",
           "landcolor": "#E5ECF6",
           "showlakes": true,
           "showland": true,
           "subunitcolor": "white"
          },
          "hoverlabel": {
           "align": "left"
          },
          "hovermode": "closest",
          "mapbox": {
           "style": "light"
          },
          "paper_bgcolor": "white",
          "plot_bgcolor": "#E5ECF6",
          "polar": {
           "angularaxis": {
            "gridcolor": "white",
            "linecolor": "white",
            "ticks": ""
           },
           "bgcolor": "#E5ECF6",
           "radialaxis": {
            "gridcolor": "white",
            "linecolor": "white",
            "ticks": ""
           }
          },
          "scene": {
           "xaxis": {
            "backgroundcolor": "#E5ECF6",
            "gridcolor": "white",
            "gridwidth": 2,
            "linecolor": "white",
            "showbackground": true,
            "ticks": "",
            "zerolinecolor": "white"
           },
           "yaxis": {
            "backgroundcolor": "#E5ECF6",
            "gridcolor": "white",
            "gridwidth": 2,
            "linecolor": "white",
            "showbackground": true,
            "ticks": "",
            "zerolinecolor": "white"
           },
           "zaxis": {
            "backgroundcolor": "#E5ECF6",
            "gridcolor": "white",
            "gridwidth": 2,
            "linecolor": "white",
            "showbackground": true,
            "ticks": "",
            "zerolinecolor": "white"
           }
          },
          "shapedefaults": {
           "line": {
            "color": "#2a3f5f"
           }
          },
          "ternary": {
           "aaxis": {
            "gridcolor": "white",
            "linecolor": "white",
            "ticks": ""
           },
           "baxis": {
            "gridcolor": "white",
            "linecolor": "white",
            "ticks": ""
           },
           "bgcolor": "#E5ECF6",
           "caxis": {
            "gridcolor": "white",
            "linecolor": "white",
            "ticks": ""
           }
          },
          "title": {
           "x": 0.05
          },
          "xaxis": {
           "automargin": true,
           "gridcolor": "white",
           "linecolor": "white",
           "ticks": "",
           "title": {
            "standoff": 15
           },
           "zerolinecolor": "white",
           "zerolinewidth": 2
          },
          "yaxis": {
           "automargin": true,
           "gridcolor": "white",
           "linecolor": "white",
           "ticks": "",
           "title": {
            "standoff": 15
           },
           "zerolinecolor": "white",
           "zerolinewidth": 2
          }
         }
        },
        "title": {
         "text": "Knowledge Transfer Flow (GitHub → Patent by Year)"
        }
       }
      }
     },
     "metadata": {},
     "output_type": "display_data"
    }
   ],
   "source": [
    "patent_year_data = pd.DataFrame({\n",
    "    \"keyword\": [\"ROS\", \"ROS\", \"amr\", \"amr\", \"robot\", \"robotics\", \"robot arm\", \"robotics\"],\n",
    "    \"year\": [2020, 2023, 2021, 2024, 2019, 2022, 2023, 2024],\n",
    "    \"count\": [40, 126, 210, 601, 350, 500, 14, 452]\n",
    "})\n",
    "\n",
    "# 연도별 노드 생성\n",
    "keywords = sorted(patent_year_data[\"keyword\"].unique())\n",
    "years = sorted(patent_year_data[\"year\"].unique())\n",
    "nodes = keywords + [f\"Patent_{y}\" for y in years]\n",
    "\n",
    "# 노드 인덱스 매핑\n",
    "node_indices = {name: i for i, name in enumerate(nodes)}\n",
    "\n",
    "# 링크 정보 구성\n",
    "sources = []\n",
    "targets = []\n",
    "values = []\n",
    "\n",
    "for _, row in patent_year_data.iterrows():\n",
    "    src = node_indices[row[\"keyword\"]]\n",
    "    tgt = node_indices[f\"Patent_{row['year']}\"]\n",
    "    sources.append(src)\n",
    "    targets.append(tgt)\n",
    "    values.append(row[\"count\"])\n",
    "\n",
    "# Sankey 그래프 생성\n",
    "fig = go.Figure(data=[go.Sankey(\n",
    "    node=dict(\n",
    "        label=nodes,\n",
    "        pad=15,\n",
    "        thickness=20,\n",
    "        color=\"lightgray\"\n",
    "    ),\n",
    "    link=dict(\n",
    "        source=sources,\n",
    "        target=targets,\n",
    "        value=values,\n",
    "        color=\"rgba(0,150,200,0.6)\"\n",
    "    )\n",
    ")])\n",
    "\n",
    "fig.update_layout(\n",
    "    title_text=\"Knowledge Transfer Flow (GitHub → Patent by Year)\",\n",
    "    font_size=12,\n",
    "    height=600\n",
    ")\n",
    "fig.show()"
   ]
  },
  {
   "cell_type": "code",
   "execution_count": 24,
   "id": "0050968d",
   "metadata": {},
   "outputs": [
    {
     "data": {
      "image/png": "[encoded data removed]",
      "text/plain": [
       "<Figure size 1000x600 with 2 Axes>"
      ]
     },
     "metadata": {},
     "output_type": "display_data"
    },
    {
     "data": {
      "image/png": "[encoded data removed]",
      "text/plain": [
       "<Figure size 1000x600 with 2 Axes>"
      ]
     },
     "metadata": {},
     "output_type": "display_data"
    }
   ],
   "source": [
    "df_readme = pd.read_sql_table(\"github_readmes\", con=engine)\n",
    "df_kipris = pd.read_sql_table(\"kipris_patent\", con=engine)\n",
    "df_repos = pd.read_sql_table(\"github_repo\", con=engine)\n",
    "\n",
    "\n",
    "# 3️⃣ 연도 컬럼 변환\n",
    "df_repos[\"year\"] = pd.to_datetime(df_repos[\"created_at\"], errors=\"coerce\").dt.year\n",
    "df_kipris[\"year\"] = pd.to_datetime(df_kipris[\"registerDate\"], errors=\"coerce\").dt.year\n",
    "\n",
    "# 4️⃣ GitHub + Readme 결합\n",
    "df_merged = pd.merge(df_repos, df_readme, on=\"full_name\", how=\"inner\")\n",
    "\n",
    "# 5️⃣ 키워드 기준으로 GitHub / Patent 집계\n",
    "repo_yearly = df_merged.groupby([\"keyword\", \"year\"]).size().reset_index(name=\"repo_count\")\n",
    "pat_yearly = df_kipris.groupby([\"keyword\", \"year\"]).size().reset_index(name=\"patent_count\")\n",
    "\n",
    "# 6️⃣ 결합 및 정리\n",
    "trend_df = pd.merge(repo_yearly, pat_yearly, on=[\"keyword\", \"year\"], how=\"outer\").fillna(0)\n",
    "\n",
    "# 7️⃣ Rolling mean (3년 이동평균)\n",
    "trend_df[\"repo_smooth\"] = trend_df.groupby(\"keyword\")[\"repo_count\"].transform(lambda x: x.rolling(3, min_periods=1).mean())\n",
    "trend_df[\"pat_smooth\"] = trend_df.groupby(\"keyword\")[\"patent_count\"].transform(lambda x: x.rolling(3, min_periods=1).mean())\n",
    "\n",
    "# 8️⃣ Heatmap (연도별 트렌드 비교)\n",
    "pivot = trend_df.pivot(index=\"keyword\", columns=\"year\", values=\"repo_smooth\")\n",
    "plt.figure(figsize=(10, 6))\n",
    "sns.heatmap(pivot, cmap=\"Blues\", annot=False)\n",
    "plt.title(\"GitHub Activity Trend by Keyword (Smoothed)\")\n",
    "plt.tight_layout()\n",
    "plt.show()\n",
    "\n",
    "pivot_pat = trend_df.pivot(index=\"keyword\", columns=\"year\", values=\"pat_smooth\")\n",
    "plt.figure(figsize=(10, 6))\n",
    "sns.heatmap(pivot_pat, cmap=\"Reds\", annot=False)\n",
    "plt.title(\"Patent Activity Trend by Keyword (Smoothed)\")\n",
    "plt.tight_layout()\n",
    "plt.show()"
   ]
  },
  {
   "cell_type": "markdown",
   "id": "69fed88e",
   "metadata": {},
   "source": [
    "## 🧩 1️⃣ GitHub Activity Trend (위쪽 파란 히트맵)\n",
    "전반적 특징\n",
    "2010년 이후 급격한 증가: 대부분 키워드가 2010년대 중반부터 활동이 급증함.\n",
    "robot / ROS 중심 구조\n",
    "robot 키워드: GitHub에서 가장 활발한 활동. 2014~2020년대에 집중적으로 증가.\n",
    "ROS: 2015~2019년대에 피크 → 이후 점차 감소.\n",
    "robotics: robot과 유사한 시기(2014~2019)에 증가하지만 규모는 다소 작음.\n",
    "amr / robot arm: 활동량이 적지만, 2018년 이후 완만한 증가세.\n",
    "\n",
    "## 요약\n",
    "2010년대 중반을 기점으로 로봇 관련 오픈소스 프로젝트가 본격화되었고,\n",
    "특히 robot, ROS, robotics 분야가 중심적인 기술 허브 역할을 함.\n",
    "\n",
    "## 🔬 2️⃣ Patent Activity Trend (아래쪽 빨간 히트맵)\n",
    "전반적 특징\n",
    "1990~2000년대 초반에도 활동 존재: GitHub보다 약 10~20년 앞서서 기술개발이 시작됨.\n",
    "2010년 이후 특허 집중도 급상승:\n",
    "robot과 robotics는 2015년 이후 급격히 증가하며 2020년대 피크.\n",
    "amr은 비교적 일찍(2005년대 초중반) 등장, 2015~2020년대 폭발적 성장.\n",
    "ROS는 2015년대 이후에만 눈에 띄는 증가.\n",
    "robot arm은 소규모지만 꾸준한 증가세.\n",
    "\n",
    "## 요약\n",
    "\n",
    "산업계에서는 로봇 및 AMR 관련 기술이 GitHub보다 훨씬 이른 시점부터 연구되어 왔으며,\n",
    "GitHub 오픈소스가 활성화된 이후(2015년대 후반)에는 특허 출원이 더욱 가속화됨.\n",
    "\n",
    "## 지식전이(knowledge diffusion) 시차\n",
    "GitHub 활동이 증가한 뒤 약 2~4년 후에 특허 등록이 급증함.\n",
    "→ 즉, **오픈소스 기술이 산업화되는 시간지연(Lag)**이 약 3년 수준.\n",
    "오픈소스 기반 기술 산업화 구조\n",
    "ROS, robotics → 표준화·공유 중심 기술\n",
    "amr, robot arm → 응용·현장 자동화 중심 기술\n",
    "두 그룹이 상호보완적으로 작동하며 기술 생태계를 형성.\n",
    "기술 흐름의 진화 방향\n",
    "초기(2000~2010): 산업 기술 중심 (특허 선행)\n",
    "중기(2010~2018): GitHub 중심 커뮤니티 확산\n",
    "최근(2018~2025): GitHub 기술이 산업에 빠르게 이전 (지식 전이 가속화)"
   ]
  },
  {
   "cell_type": "code",
   "execution_count": 25,
   "id": "494956c9",
   "metadata": {},
   "outputs": [
    {
     "data": {
      "image/png": "[encoded data removed]",
      "text/plain": [
       "<Figure size 800x500 with 1 Axes>"
      ]
     },
     "metadata": {},
     "output_type": "display_data"
    },
    {
     "data": {
      "image/png": "[encoded data removed]",
      "text/plain": [
       "<Figure size 800x500 with 1 Axes>"
      ]
     },
     "metadata": {},
     "output_type": "display_data"
    }
   ],
   "source": [
    "repo_stats = (\n",
    "    df_merged.groupby(\"keyword\")\n",
    "    .agg(\n",
    "        repo_year=(\"year\", \"min\"),\n",
    "        mean_stars=(\"stars\", \"mean\"),\n",
    "        mean_forks=(\"forks\", \"mean\")\n",
    "    )\n",
    "    .reset_index()\n",
    ")\n",
    "\n",
    "# 6️⃣ 특허 연도 계산\n",
    "pat_stats = (\n",
    "    df_kipris.groupby(\"keyword\")\n",
    "    .agg(patent_year=(\"year\", \"min\"))\n",
    "    .reset_index()\n",
    ")\n",
    "\n",
    "# 7️⃣ 결합 → 지연 계산\n",
    "trend = pd.merge(repo_stats, pat_stats, on=\"keyword\", how=\"inner\")\n",
    "trend[\"year_gap\"] = trend[\"patent_year\"] - trend[\"repo_year\"]\n",
    "\n",
    "# 8️⃣ 영향력 가중치 계산\n",
    "trend[\"influence\"] = (trend[\"mean_stars\"] * 0.7) + (trend[\"mean_forks\"] * 0.3)\n",
    "\n",
    "# 9️⃣ 시각화: 연도 지연\n",
    "plt.figure(figsize=(8, 5))\n",
    "sns.barplot(data=trend.sort_values(\"year_gap\", ascending=False), x=\"keyword\", y=\"year_gap\", hue=\"keyword\", palette=\"coolwarm\")\n",
    "plt.title(\"Time Lag: GitHub → Patent (years)\")\n",
    "plt.xticks(rotation=45, ha=\"right\")\n",
    "plt.tight_layout()\n",
    "plt.show()\n",
    "\n",
    "# 🔟 시각화: 영향력 vs 특허화 시기\n",
    "plt.figure(figsize=(8, 5))\n",
    "sns.scatterplot(data=trend, x=\"influence\", y=\"year_gap\", hue=\"keyword\", s=120)\n",
    "plt.title(\"Influence vs Knowledge Transfer Lag\")\n",
    "plt.xlabel(\"GitHub Influence (weighted stars/forks)\")\n",
    "plt.ylabel(\"Time Lag (years)\")\n",
    "plt.tight_layout()\n",
    "plt.show()"
   ]
  },
  {
   "cell_type": "markdown",
   "id": "fa55cb67",
   "metadata": {},
   "source": [
    "## Time Lag (연도 지연)\n",
    "→ year_gap이 작을수록 GitHub에서 공개된 기술이 빠르게 산업화(특허화)된 것\n",
    "\n",
    "→ robotics, ROS 같은 키워드는 일반적으로 짧은 지연 (즉시 활용 가능 기술) \n",
    " \n",
    "## Influence vs Lag\n",
    "→ 영향력(stars, forks)이 큰 프로젝트일수록 지연이 짧다면\n",
    "\n",
    "→ 오픈소스 커뮤니티에서 산업으로의 지식 확산 속도가 빠름\n",
    "\n",
    "→ 반대로 영향력이 커도 지연이 길다면\n",
    "\n",
    "→ 산업 적용에 시간이 필요한 복잡 기술군일 가능성"
   ]
  }
 ],
 "metadata": {
  "kernelspec": {
   "display_name": "eda_venv",
   "language": "python",
   "name": "python3"
  },
  "language_info": {
   "codemirror_mode": {
    "name": "ipython",
    "version": 3
   },
   "file_extension": ".py",
   "mimetype": "text/x-python",
   "name": "python",
   "nbconvert_exporter": "python",
   "pygments_lexer": "ipython3",
   "version": "3.12.3"
  }
 },
 "nbformat": 4,
 "nbformat_minor": 5
}
